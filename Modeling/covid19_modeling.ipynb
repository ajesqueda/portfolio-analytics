{
 "cells": [
  {
   "cell_type": "markdown",
   "id": "c2536a91",
   "metadata": {},
   "source": [
    "# Step 1. Develop an Understanding of the Data Mining Project\n",
    "\n",
    "### Welcome to our data mining project on COVID-19 cases. As a lab, we have been interested in understanding the patterns and trends of COVID-19 cases across the world. The COVID-19 pandemic has affected all aspects of human life and has challenged our healthcare systems, economies, and social structures. \n",
    "\n",
    "### We wanted to create a model in order to help decrease the number of COVID-19 cases. "
   ]
  },
  {
   "cell_type": "markdown",
   "id": "b14f13c9",
   "metadata": {},
   "source": [
    "# Step 2: Obtain the dataset to be used in the analysis\n",
    "\n",
    "### The website Kaggle provided a dataset of 187 countries (95% of all countries) and the impact COVID-19 had on them. \n",
    "\n",
    "### https://www.kaggle.com/datasets/imdevskp/corona-virus-report"
   ]
  },
  {
   "cell_type": "markdown",
   "id": "789d8aab",
   "metadata": {},
   "source": [
    "# Step 3: Explore, clean, and preprocess the data"
   ]
  },
  {
   "cell_type": "code",
   "execution_count": 129,
   "id": "63fa8057",
   "metadata": {},
   "outputs": [],
   "source": [
    "# Import libraries\n",
    "import pandas as pd\n",
    "import numpy as np\n",
    "import seaborn as sns\n",
    "import matplotlib.pyplot as plt\n",
    "import matplotlib.ticker as ticker"
   ]
  },
  {
   "cell_type": "code",
   "execution_count": 130,
   "id": "e110ec23",
   "metadata": {},
   "outputs": [],
   "source": [
    "# Load the data\n",
    "df = pd.read_csv(\"data_covid19.csv\")"
   ]
  },
  {
   "cell_type": "code",
   "execution_count": 131,
   "id": "6fb24f22",
   "metadata": {},
   "outputs": [
    {
     "name": "stdout",
     "output_type": "stream",
     "text": [
      "C:\\Users\\alfon\\BIA3200_final\n"
     ]
    }
   ],
   "source": [
    "%cd C:\\Users\\alfon\\BIA3200_final"
   ]
  },
  {
   "cell_type": "code",
   "execution_count": 132,
   "id": "12b2fef9",
   "metadata": {},
   "outputs": [
    {
     "data": {
      "text/html": [
       "<div>\n",
       "<style scoped>\n",
       "    .dataframe tbody tr th:only-of-type {\n",
       "        vertical-align: middle;\n",
       "    }\n",
       "\n",
       "    .dataframe tbody tr th {\n",
       "        vertical-align: top;\n",
       "    }\n",
       "\n",
       "    .dataframe thead th {\n",
       "        text-align: right;\n",
       "    }\n",
       "</style>\n",
       "<table border=\"1\" class=\"dataframe\">\n",
       "  <thead>\n",
       "    <tr style=\"text-align: right;\">\n",
       "      <th></th>\n",
       "      <th>Country/Region</th>\n",
       "      <th>Confirmed</th>\n",
       "      <th>Deaths</th>\n",
       "      <th>Recovered</th>\n",
       "      <th>Active</th>\n",
       "      <th>Deaths / 100 Cases</th>\n",
       "      <th>Recovered / 100 Cases</th>\n",
       "      <th>Deaths / 100 Recovered</th>\n",
       "      <th>WHO Region</th>\n",
       "    </tr>\n",
       "  </thead>\n",
       "  <tbody>\n",
       "    <tr>\n",
       "      <th>0</th>\n",
       "      <td>Afghanistan</td>\n",
       "      <td>36263</td>\n",
       "      <td>1269</td>\n",
       "      <td>25198</td>\n",
       "      <td>9796</td>\n",
       "      <td>3.500</td>\n",
       "      <td>69.490</td>\n",
       "      <td>5.040</td>\n",
       "      <td>Eastern Mediterranean</td>\n",
       "    </tr>\n",
       "    <tr>\n",
       "      <th>1</th>\n",
       "      <td>Albania</td>\n",
       "      <td>4880</td>\n",
       "      <td>144</td>\n",
       "      <td>2745</td>\n",
       "      <td>1991</td>\n",
       "      <td>2.950</td>\n",
       "      <td>56.250</td>\n",
       "      <td>5.250</td>\n",
       "      <td>Europe</td>\n",
       "    </tr>\n",
       "    <tr>\n",
       "      <th>2</th>\n",
       "      <td>Algeria</td>\n",
       "      <td>27973</td>\n",
       "      <td>1163</td>\n",
       "      <td>18837</td>\n",
       "      <td>7973</td>\n",
       "      <td>4.160</td>\n",
       "      <td>67.340</td>\n",
       "      <td>6.170</td>\n",
       "      <td>Africa</td>\n",
       "    </tr>\n",
       "    <tr>\n",
       "      <th>3</th>\n",
       "      <td>Andorra</td>\n",
       "      <td>907</td>\n",
       "      <td>52</td>\n",
       "      <td>803</td>\n",
       "      <td>52</td>\n",
       "      <td>5.730</td>\n",
       "      <td>88.530</td>\n",
       "      <td>6.480</td>\n",
       "      <td>Europe</td>\n",
       "    </tr>\n",
       "    <tr>\n",
       "      <th>4</th>\n",
       "      <td>Angola</td>\n",
       "      <td>950</td>\n",
       "      <td>41</td>\n",
       "      <td>242</td>\n",
       "      <td>667</td>\n",
       "      <td>4.320</td>\n",
       "      <td>25.470</td>\n",
       "      <td>16.940</td>\n",
       "      <td>Africa</td>\n",
       "    </tr>\n",
       "  </tbody>\n",
       "</table>\n",
       "</div>"
      ],
      "text/plain": [
       "  Country/Region  Confirmed  Deaths  Recovered  Active  Deaths / 100 Cases  \\\n",
       "0    Afghanistan      36263    1269      25198    9796               3.500   \n",
       "1        Albania       4880     144       2745    1991               2.950   \n",
       "2        Algeria      27973    1163      18837    7973               4.160   \n",
       "3        Andorra        907      52        803      52               5.730   \n",
       "4         Angola        950      41        242     667               4.320   \n",
       "\n",
       "   Recovered / 100 Cases  Deaths / 100 Recovered             WHO Region  \n",
       "0                 69.490                   5.040  Eastern Mediterranean  \n",
       "1                 56.250                   5.250                 Europe  \n",
       "2                 67.340                   6.170                 Africa  \n",
       "3                 88.530                   6.480                 Europe  \n",
       "4                 25.470                  16.940                 Africa  "
      ]
     },
     "execution_count": 132,
     "metadata": {},
     "output_type": "execute_result"
    }
   ],
   "source": [
    "# Visualize Top 5 Rows \n",
    "df.head()"
   ]
  },
  {
   "cell_type": "code",
   "execution_count": 133,
   "id": "75bce951",
   "metadata": {},
   "outputs": [],
   "source": [
    "# renaming columns\n",
    "df = df.rename(columns={'Deaths / 100 Cases': '% of Deaths from Confirmed'})\n",
    "df = df.rename(columns={'Recovered / 100 Cases': '% of Recovered from Confirmed'})\n",
    "df = df.rename(columns={'Deaths / 100 Recovered': '% of Deaths from Recovered'})"
   ]
  },
  {
   "cell_type": "code",
   "execution_count": 134,
   "id": "46702d4b",
   "metadata": {
    "scrolled": true
   },
   "outputs": [
    {
     "data": {
      "text/html": [
       "<div>\n",
       "<style scoped>\n",
       "    .dataframe tbody tr th:only-of-type {\n",
       "        vertical-align: middle;\n",
       "    }\n",
       "\n",
       "    .dataframe tbody tr th {\n",
       "        vertical-align: top;\n",
       "    }\n",
       "\n",
       "    .dataframe thead th {\n",
       "        text-align: right;\n",
       "    }\n",
       "</style>\n",
       "<table border=\"1\" class=\"dataframe\">\n",
       "  <thead>\n",
       "    <tr style=\"text-align: right;\">\n",
       "      <th></th>\n",
       "      <th>Country/Region</th>\n",
       "      <th>Confirmed</th>\n",
       "      <th>Deaths</th>\n",
       "      <th>Recovered</th>\n",
       "      <th>Active</th>\n",
       "      <th>% of Deaths from Confirmed</th>\n",
       "      <th>% of Recovered from Confirmed</th>\n",
       "      <th>% of Deaths from Recovered</th>\n",
       "      <th>WHO Region</th>\n",
       "    </tr>\n",
       "  </thead>\n",
       "  <tbody>\n",
       "    <tr>\n",
       "      <th>182</th>\n",
       "      <td>West Bank and Gaza</td>\n",
       "      <td>10621</td>\n",
       "      <td>78</td>\n",
       "      <td>3752</td>\n",
       "      <td>6791</td>\n",
       "      <td>0.730</td>\n",
       "      <td>35.330</td>\n",
       "      <td>2.080</td>\n",
       "      <td>Eastern Mediterranean</td>\n",
       "    </tr>\n",
       "    <tr>\n",
       "      <th>183</th>\n",
       "      <td>Western Sahara</td>\n",
       "      <td>10</td>\n",
       "      <td>1</td>\n",
       "      <td>8</td>\n",
       "      <td>1</td>\n",
       "      <td>10.000</td>\n",
       "      <td>80.000</td>\n",
       "      <td>12.500</td>\n",
       "      <td>Africa</td>\n",
       "    </tr>\n",
       "    <tr>\n",
       "      <th>184</th>\n",
       "      <td>Yemen</td>\n",
       "      <td>1691</td>\n",
       "      <td>483</td>\n",
       "      <td>833</td>\n",
       "      <td>375</td>\n",
       "      <td>28.560</td>\n",
       "      <td>49.260</td>\n",
       "      <td>57.980</td>\n",
       "      <td>Eastern Mediterranean</td>\n",
       "    </tr>\n",
       "    <tr>\n",
       "      <th>185</th>\n",
       "      <td>Zambia</td>\n",
       "      <td>4552</td>\n",
       "      <td>140</td>\n",
       "      <td>2815</td>\n",
       "      <td>1597</td>\n",
       "      <td>3.080</td>\n",
       "      <td>61.840</td>\n",
       "      <td>4.970</td>\n",
       "      <td>Africa</td>\n",
       "    </tr>\n",
       "    <tr>\n",
       "      <th>186</th>\n",
       "      <td>Zimbabwe</td>\n",
       "      <td>2704</td>\n",
       "      <td>36</td>\n",
       "      <td>542</td>\n",
       "      <td>2126</td>\n",
       "      <td>1.330</td>\n",
       "      <td>20.040</td>\n",
       "      <td>6.640</td>\n",
       "      <td>Africa</td>\n",
       "    </tr>\n",
       "  </tbody>\n",
       "</table>\n",
       "</div>"
      ],
      "text/plain": [
       "         Country/Region  Confirmed  Deaths  Recovered  Active  \\\n",
       "182  West Bank and Gaza      10621      78       3752    6791   \n",
       "183      Western Sahara         10       1          8       1   \n",
       "184               Yemen       1691     483        833     375   \n",
       "185              Zambia       4552     140       2815    1597   \n",
       "186            Zimbabwe       2704      36        542    2126   \n",
       "\n",
       "     % of Deaths from Confirmed  % of Recovered from Confirmed  \\\n",
       "182                       0.730                         35.330   \n",
       "183                      10.000                         80.000   \n",
       "184                      28.560                         49.260   \n",
       "185                       3.080                         61.840   \n",
       "186                       1.330                         20.040   \n",
       "\n",
       "     % of Deaths from Recovered             WHO Region  \n",
       "182                       2.080  Eastern Mediterranean  \n",
       "183                      12.500                 Africa  \n",
       "184                      57.980  Eastern Mediterranean  \n",
       "185                       4.970                 Africa  \n",
       "186                       6.640                 Africa  "
      ]
     },
     "execution_count": 134,
     "metadata": {},
     "output_type": "execute_result"
    }
   ],
   "source": [
    "# Visualize Bottom 5 Rows \n",
    "df.tail()"
   ]
  },
  {
   "cell_type": "code",
   "execution_count": 135,
   "id": "22d48a95",
   "metadata": {},
   "outputs": [
    {
     "name": "stdout",
     "output_type": "stream",
     "text": [
      "Dataset Column Names\n",
      "Index(['Country/Region', 'Confirmed', 'Deaths', 'Recovered', 'Active',\n",
      "       '% of Deaths from Confirmed', '% of Recovered from Confirmed',\n",
      "       '% of Deaths from Recovered', 'WHO Region'],\n",
      "      dtype='object')\n",
      "~~~~~~~~~~~~~~~~~~~~~~~\n",
      "Dataset Data Types\n",
      "Country/Region                    object\n",
      "Confirmed                          int64\n",
      "Deaths                             int64\n",
      "Recovered                          int64\n",
      "Active                             int64\n",
      "% of Deaths from Confirmed       float64\n",
      "% of Recovered from Confirmed    float64\n",
      "% of Deaths from Recovered       float64\n",
      "WHO Region                        object\n",
      "dtype: object\n",
      "~~~~~~~~~~~~~~~~~~~~~~~\n",
      "Are there any missing values?\n",
      "[]\n",
      "~~~~~~~~~~~~~~~~~~~~~~~\n",
      "Dataset Dimension\n",
      "(187, 9)\n",
      "~~~~~~~~~~~~~~~~~~\n"
     ]
    }
   ],
   "source": [
    "# Quick EDA\n",
    "\n",
    "print (\"Dataset Column Names\")\n",
    "print(df.columns)\n",
    "print (\"~~~~~~~~~~~~~~~~~~~~~~~\")\n",
    "\n",
    "print (\"Dataset Data Types\")\n",
    "print(df.dtypes)\n",
    "print (\"~~~~~~~~~~~~~~~~~~~~~~~\")\n",
    "\n",
    "print (\"Are there any missing values?\")\n",
    "print(df.columns[df.isnull().any()].tolist())\n",
    "print (\"~~~~~~~~~~~~~~~~~~~~~~~\")\n",
    "\n",
    "print(\"Dataset Dimension\")\n",
    "print(df.shape)\n",
    "print(\"~~~~~~~~~~~~~~~~~~\")"
   ]
  },
  {
   "cell_type": "code",
   "execution_count": 136,
   "id": "ae4e4bbd",
   "metadata": {},
   "outputs": [
    {
     "data": {
      "text/html": [
       "<div>\n",
       "<style scoped>\n",
       "    .dataframe tbody tr th:only-of-type {\n",
       "        vertical-align: middle;\n",
       "    }\n",
       "\n",
       "    .dataframe tbody tr th {\n",
       "        vertical-align: top;\n",
       "    }\n",
       "\n",
       "    .dataframe thead th {\n",
       "        text-align: right;\n",
       "    }\n",
       "</style>\n",
       "<table border=\"1\" class=\"dataframe\">\n",
       "  <thead>\n",
       "    <tr style=\"text-align: right;\">\n",
       "      <th></th>\n",
       "      <th>Confirmed</th>\n",
       "      <th>Deaths</th>\n",
       "      <th>Recovered</th>\n",
       "      <th>Active</th>\n",
       "      <th>% of Deaths from Confirmed</th>\n",
       "      <th>% of Recovered from Confirmed</th>\n",
       "      <th>% of Deaths from Recovered</th>\n",
       "    </tr>\n",
       "  </thead>\n",
       "  <tbody>\n",
       "    <tr>\n",
       "      <th>count</th>\n",
       "      <td>187.000</td>\n",
       "      <td>187.000</td>\n",
       "      <td>187.000</td>\n",
       "      <td>187.000</td>\n",
       "      <td>187.000</td>\n",
       "      <td>187.000</td>\n",
       "      <td>187.000</td>\n",
       "    </tr>\n",
       "    <tr>\n",
       "      <th>mean</th>\n",
       "      <td>88130.936</td>\n",
       "      <td>3497.519</td>\n",
       "      <td>50631.481</td>\n",
       "      <td>34001.936</td>\n",
       "      <td>3.020</td>\n",
       "      <td>64.821</td>\n",
       "      <td>inf</td>\n",
       "    </tr>\n",
       "    <tr>\n",
       "      <th>std</th>\n",
       "      <td>383318.664</td>\n",
       "      <td>14100.002</td>\n",
       "      <td>190188.190</td>\n",
       "      <td>213326.173</td>\n",
       "      <td>3.454</td>\n",
       "      <td>26.288</td>\n",
       "      <td>NaN</td>\n",
       "    </tr>\n",
       "    <tr>\n",
       "      <th>min</th>\n",
       "      <td>10.000</td>\n",
       "      <td>0.000</td>\n",
       "      <td>0.000</td>\n",
       "      <td>0.000</td>\n",
       "      <td>0.000</td>\n",
       "      <td>0.000</td>\n",
       "      <td>0.000</td>\n",
       "    </tr>\n",
       "    <tr>\n",
       "      <th>25%</th>\n",
       "      <td>1114.000</td>\n",
       "      <td>18.500</td>\n",
       "      <td>626.500</td>\n",
       "      <td>141.500</td>\n",
       "      <td>0.945</td>\n",
       "      <td>48.770</td>\n",
       "      <td>1.450</td>\n",
       "    </tr>\n",
       "    <tr>\n",
       "      <th>50%</th>\n",
       "      <td>5059.000</td>\n",
       "      <td>108.000</td>\n",
       "      <td>2815.000</td>\n",
       "      <td>1600.000</td>\n",
       "      <td>2.150</td>\n",
       "      <td>71.320</td>\n",
       "      <td>3.620</td>\n",
       "    </tr>\n",
       "    <tr>\n",
       "      <th>75%</th>\n",
       "      <td>40460.500</td>\n",
       "      <td>734.000</td>\n",
       "      <td>22606.000</td>\n",
       "      <td>9149.000</td>\n",
       "      <td>3.875</td>\n",
       "      <td>86.885</td>\n",
       "      <td>6.440</td>\n",
       "    </tr>\n",
       "    <tr>\n",
       "      <th>max</th>\n",
       "      <td>4290259.000</td>\n",
       "      <td>148011.000</td>\n",
       "      <td>1846641.000</td>\n",
       "      <td>2816444.000</td>\n",
       "      <td>28.560</td>\n",
       "      <td>100.000</td>\n",
       "      <td>inf</td>\n",
       "    </tr>\n",
       "  </tbody>\n",
       "</table>\n",
       "</div>"
      ],
      "text/plain": [
       "        Confirmed     Deaths   Recovered      Active  \\\n",
       "count     187.000    187.000     187.000     187.000   \n",
       "mean    88130.936   3497.519   50631.481   34001.936   \n",
       "std    383318.664  14100.002  190188.190  213326.173   \n",
       "min        10.000      0.000       0.000       0.000   \n",
       "25%      1114.000     18.500     626.500     141.500   \n",
       "50%      5059.000    108.000    2815.000    1600.000   \n",
       "75%     40460.500    734.000   22606.000    9149.000   \n",
       "max   4290259.000 148011.000 1846641.000 2816444.000   \n",
       "\n",
       "       % of Deaths from Confirmed  % of Recovered from Confirmed  \\\n",
       "count                     187.000                        187.000   \n",
       "mean                        3.020                         64.821   \n",
       "std                         3.454                         26.288   \n",
       "min                         0.000                          0.000   \n",
       "25%                         0.945                         48.770   \n",
       "50%                         2.150                         71.320   \n",
       "75%                         3.875                         86.885   \n",
       "max                        28.560                        100.000   \n",
       "\n",
       "       % of Deaths from Recovered  \n",
       "count                     187.000  \n",
       "mean                          inf  \n",
       "std                           NaN  \n",
       "min                         0.000  \n",
       "25%                         1.450  \n",
       "50%                         3.620  \n",
       "75%                         6.440  \n",
       "max                           inf  "
      ]
     },
     "execution_count": 136,
     "metadata": {},
     "output_type": "execute_result"
    }
   ],
   "source": [
    "# NUMERIC SUMMARY\n",
    "\n",
    "df.describe()"
   ]
  },
  {
   "cell_type": "markdown",
   "id": "9040f8a2",
   "metadata": {},
   "source": [
    "## This the mean of the following variables:\n",
    "### Confirmed = 88130"
   ]
  },
  {
   "cell_type": "code",
   "execution_count": 137,
   "id": "106dc169",
   "metadata": {},
   "outputs": [
    {
     "name": "stdout",
     "output_type": "stream",
     "text": [
      "Country/Region    0\n",
      "Confirmed         0\n",
      "Deaths            0\n",
      "Recovered         0\n",
      "Active            0\n",
      "dtype: int64\n"
     ]
    }
   ],
   "source": [
    "# Missing Variables\n",
    "\n",
    "print(df.isnull().sum().sort_values(ascending=False).head())"
   ]
  },
  {
   "cell_type": "code",
   "execution_count": 138,
   "id": "23db677e",
   "metadata": {},
   "outputs": [
    {
     "data": {
      "text/plain": [
       "WHO Region\n",
       "Europe                   56\n",
       "Africa                   48\n",
       "Americas                 35\n",
       "Eastern Mediterranean    22\n",
       "Western Pacific          16\n",
       "South-East Asia          10\n",
       "dtype: int64"
      ]
     },
     "execution_count": 138,
     "metadata": {},
     "output_type": "execute_result"
    }
   ],
   "source": [
    "#Count for Region\n",
    "\n",
    "df.groupby('WHO Region').size().sort_values(ascending=False)"
   ]
  },
  {
   "cell_type": "code",
   "execution_count": 139,
   "id": "976f3836",
   "metadata": {},
   "outputs": [
    {
     "data": {
      "text/plain": [
       "Country/Region\n",
       "Afghanistan    1\n",
       "Pakistan       1\n",
       "Nepal          1\n",
       "Netherlands    1\n",
       "New Zealand    1\n",
       "              ..\n",
       "Georgia        1\n",
       "Germany        1\n",
       "Ghana          1\n",
       "Greece         1\n",
       "Zimbabwe       1\n",
       "Length: 187, dtype: int64"
      ]
     },
     "execution_count": 139,
     "metadata": {},
     "output_type": "execute_result"
    }
   ],
   "source": [
    "#Count for Country\n",
    "\n",
    "df.groupby('Country/Region').size().sort_values(ascending=False)"
   ]
  },
  {
   "cell_type": "code",
   "execution_count": 140,
   "id": "dd661a0c",
   "metadata": {},
   "outputs": [
    {
     "data": {
      "image/png": "[encoded data removed]",
      "text/plain": [
       "<Figure size 1000x1000 with 9 Axes>"
      ]
     },
     "metadata": {},
     "output_type": "display_data"
    }
   ],
   "source": [
    "df.hist(bins=10,figsize= (10,10),range=[6.5, 12.5], color='blue')\n",
    "plt.show()"
   ]
  },
  {
   "cell_type": "code",
   "execution_count": 141,
   "id": "975449e6",
   "metadata": {},
   "outputs": [
    {
     "data": {
      "image/png": "[encoded data removed]",
      "text/plain": [
       "<Figure size 640x480 with 1 Axes>"
      ]
     },
     "metadata": {},
     "output_type": "display_data"
    }
   ],
   "source": [
    "#Creates a bar chart of the top 15 countries who won the most medals\n",
    "plt.bar(df['WHO Region'], df['Confirmed'])\n",
    "\n",
    "#Making the title and Axis labels\n",
    "plt.title(\"Distribution of cases per Region\")\n",
    "plt.xlabel(\"Country\")\n",
    "plt.ylabel(\"Cases\")\n",
    "\n",
    "#Making the x Axis more readable\n",
    "plt.xticks(rotation= 90)\n",
    "plt.show()\n"
   ]
  },
  {
   "cell_type": "code",
   "execution_count": 142,
   "id": "09d6b4b0",
   "metadata": {},
   "outputs": [],
   "source": [
    "# CALCULATE COREELATION COEFFICIENTS FOR THE FOLLOWING VARIABLES\n",
    "\n",
    "corr_matrix = df[[\"Confirmed\", \"Deaths\", \"Recovered\", \"Active\",]].corr()"
   ]
  },
  {
   "cell_type": "code",
   "execution_count": 143,
   "id": "9b2f5c2c",
   "metadata": {},
   "outputs": [
    {
     "data": {
      "image/png": "[encoded data removed]",
      "text/plain": [
       "<Figure size 640x480 with 2 Axes>"
      ]
     },
     "metadata": {},
     "output_type": "display_data"
    }
   ],
   "source": [
    "sns.heatmap(corr_matrix, annot=True, cmap=\"coolwarm\")\n",
    "plt.title(\"Correlation Matrix\")\n",
    "plt.show()"
   ]
  },
  {
   "cell_type": "code",
   "execution_count": 144,
   "id": "af39d9a5",
   "metadata": {},
   "outputs": [
    {
     "data": {
      "image/png": "[encoded data removed]",
      "text/plain": [
       "<Figure size 640x480 with 2 Axes>"
      ]
     },
     "metadata": {},
     "output_type": "display_data"
    }
   ],
   "source": [
    "# Much Better!\n",
    "sns.heatmap(df.corr(), annot=True, cmap=\"coolwarm\",linewidths=0)\n",
    "plt.title(\"Correlation Matrix\")\n",
    "plt.show()"
   ]
  },
  {
   "cell_type": "code",
   "execution_count": 145,
   "id": "ec55b96f",
   "metadata": {},
   "outputs": [
    {
     "data": {
      "image/png": "[encoded data removed]",
      "text/plain": [
       "<Figure size 640x480 with 1 Axes>"
      ]
     },
     "metadata": {},
     "output_type": "display_data"
    }
   ],
   "source": [
    "#Reg Plot \n",
    "\n",
    "sns.regplot(x=\"Confirmed\", y=\"Deaths\", data=df)\n",
    "plt.title(\"Relationship between Confirmed and Deaths\")\n",
    "plt.show()"
   ]
  },
  {
   "cell_type": "code",
   "execution_count": 146,
   "id": "c116a079",
   "metadata": {
    "scrolled": false
   },
   "outputs": [
    {
     "data": {
      "image/png": "[encoded data removed]",
      "text/plain": [
       "<Figure size 640x480 with 1 Axes>"
      ]
     },
     "metadata": {},
     "output_type": "display_data"
    }
   ],
   "source": [
    "#Reg Plot \n",
    "\n",
    "sns.regplot(x=\"Confirmed\", y=\"Recovered\" ,data=df)\n",
    "plt.title(\"Relationship between Confirmed and Deaths\")\n",
    "plt.show()"
   ]
  },
  {
   "cell_type": "code",
   "execution_count": 147,
   "id": "ae9c2721",
   "metadata": {},
   "outputs": [],
   "source": [
    "pd.set_option('display.float_format', lambda x: \"%.3f\"  %x)"
   ]
  },
  {
   "cell_type": "code",
   "execution_count": 148,
   "id": "e391a8b2",
   "metadata": {},
   "outputs": [
    {
     "data": {
      "text/html": [
       "<div>\n",
       "<style scoped>\n",
       "    .dataframe tbody tr th:only-of-type {\n",
       "        vertical-align: middle;\n",
       "    }\n",
       "\n",
       "    .dataframe tbody tr th {\n",
       "        vertical-align: top;\n",
       "    }\n",
       "\n",
       "    .dataframe thead th {\n",
       "        text-align: right;\n",
       "    }\n",
       "</style>\n",
       "<table border=\"1\" class=\"dataframe\">\n",
       "  <thead>\n",
       "    <tr style=\"text-align: right;\">\n",
       "      <th></th>\n",
       "      <th>Confirmed</th>\n",
       "    </tr>\n",
       "    <tr>\n",
       "      <th>Deaths</th>\n",
       "      <th></th>\n",
       "    </tr>\n",
       "  </thead>\n",
       "  <tbody>\n",
       "    <tr>\n",
       "      <th>0</th>\n",
       "      <td>101.000</td>\n",
       "    </tr>\n",
       "    <tr>\n",
       "      <th>1</th>\n",
       "      <td>158.000</td>\n",
       "    </tr>\n",
       "    <tr>\n",
       "      <th>2</th>\n",
       "      <td>638.333</td>\n",
       "    </tr>\n",
       "    <tr>\n",
       "      <th>3</th>\n",
       "      <td>113.500</td>\n",
       "    </tr>\n",
       "    <tr>\n",
       "      <th>4</th>\n",
       "      <td>116.000</td>\n",
       "    </tr>\n",
       "    <tr>\n",
       "      <th>...</th>\n",
       "      <td>...</td>\n",
       "    </tr>\n",
       "    <tr>\n",
       "      <th>35112</th>\n",
       "      <td>246286.000</td>\n",
       "    </tr>\n",
       "    <tr>\n",
       "      <th>44022</th>\n",
       "      <td>395489.000</td>\n",
       "    </tr>\n",
       "    <tr>\n",
       "      <th>45844</th>\n",
       "      <td>301708.000</td>\n",
       "    </tr>\n",
       "    <tr>\n",
       "      <th>87618</th>\n",
       "      <td>2442375.000</td>\n",
       "    </tr>\n",
       "    <tr>\n",
       "      <th>148011</th>\n",
       "      <td>4290259.000</td>\n",
       "    </tr>\n",
       "  </tbody>\n",
       "</table>\n",
       "<p>150 rows × 1 columns</p>\n",
       "</div>"
      ],
      "text/plain": [
       "         Confirmed\n",
       "Deaths            \n",
       "0          101.000\n",
       "1          158.000\n",
       "2          638.333\n",
       "3          113.500\n",
       "4          116.000\n",
       "...            ...\n",
       "35112   246286.000\n",
       "44022   395489.000\n",
       "45844   301708.000\n",
       "87618  2442375.000\n",
       "148011 4290259.000\n",
       "\n",
       "[150 rows x 1 columns]"
      ]
     },
     "execution_count": 148,
     "metadata": {},
     "output_type": "execute_result"
    }
   ],
   "source": [
    "# Create a pivot table of the average value by number of Confirmed and Deaths\n",
    "pivot_table = pd.pivot_table(df, values='Confirmed', index='Deaths', aggfunc='mean')\n",
    "\n",
    "# Print the pivot table\n",
    "pivot_table"
   ]
  },
  {
   "cell_type": "markdown",
   "id": "762df20d",
   "metadata": {},
   "source": [
    "####  The above data tells us that for every 1 death, there is 158 confirmed COVID 19 cases. It also shows for every 148,011 deaths due to COVID, there is 4,290,259. confirmed cases"
   ]
  },
  {
   "cell_type": "markdown",
   "id": "4c0c44b8",
   "metadata": {},
   "source": [
    "# Step 4: Reduce the Data Dimension"
   ]
  },
  {
   "cell_type": "code",
   "execution_count": null,
   "id": "74fcff71",
   "metadata": {},
   "outputs": [],
   "source": []
  },
  {
   "cell_type": "markdown",
   "id": "f4982175",
   "metadata": {},
   "source": [
    "# Step 5: Determine the Data Mining Task"
   ]
  },
  {
   "cell_type": "markdown",
   "id": "cb6e3091",
   "metadata": {},
   "source": [
    "### In this process we want to predict the number of confirmed cases per each country region. \n",
    "### One of the main benefits of predecting the number of confirmed cases for each region would be to help detect potential outbreaks earlier, which can allow health authorities to respond quickly and prevent the spread of the disease."
   ]
  },
  {
   "cell_type": "markdown",
   "id": "58d4984e",
   "metadata": {},
   "source": [
    "# Step 6: Partition the Data (supervised tasks only)\n"
   ]
  },
  {
   "cell_type": "code",
   "execution_count": 149,
   "id": "a1de240b",
   "metadata": {
    "scrolled": true
   },
   "outputs": [
    {
     "data": {
      "text/plain": [
       "Index(['Country/Region', 'Confirmed', 'Deaths', 'Recovered', 'Active',\n",
       "       '% of Deaths from Confirmed', '% of Recovered from Confirmed',\n",
       "       '% of Deaths from Recovered', 'WHO Region'],\n",
       "      dtype='object')"
      ]
     },
     "execution_count": 149,
     "metadata": {},
     "output_type": "execute_result"
    }
   ],
   "source": [
    "df.columns"
   ]
  },
  {
   "cell_type": "code",
   "execution_count": 161,
   "id": "dcc85e62",
   "metadata": {},
   "outputs": [],
   "source": [
    "df = df.reset_index()"
   ]
  },
  {
   "cell_type": "code",
   "execution_count": 151,
   "id": "f17b26bc",
   "metadata": {},
   "outputs": [],
   "source": [
    "from sklearn.linear_model import LinearRegression\n",
    "from sklearn.model_selection import train_test_split"
   ]
  },
  {
   "cell_type": "code",
   "execution_count": 152,
   "id": "0591225e",
   "metadata": {},
   "outputs": [
    {
     "name": "stdout",
     "output_type": "stream",
     "text": [
      "Dataset Data Types\n",
      "index                              int64\n",
      "Country/Region                    object\n",
      "Confirmed                          int64\n",
      "Deaths                             int64\n",
      "Recovered                          int64\n",
      "Active                             int64\n",
      "% of Deaths from Confirmed       float64\n",
      "% of Recovered from Confirmed    float64\n",
      "% of Deaths from Recovered       float64\n",
      "WHO Region                        object\n",
      "dtype: object\n"
     ]
    }
   ],
   "source": [
    "print (\"Dataset Data Types\")\n",
    "print(df.dtypes)"
   ]
  },
  {
   "cell_type": "code",
   "execution_count": 153,
   "id": "b5f363a6",
   "metadata": {},
   "outputs": [],
   "source": [
    "# Convert WHO Region to Numeric b/c we need all variables to be numberic for modeling\n",
    "from sklearn.preprocessing import LabelEncoder\n",
    "\n",
    "# Create a label encoder object\n",
    "le = LabelEncoder()\n",
    "\n",
    "# Fit and transform the categorical variable\n",
    "df['WHO Region'] = le.fit_transform(df['WHO Region'])\n",
    "df['Country/Region'] = le.fit_transform(df['Country/Region'])"
   ]
  },
  {
   "cell_type": "code",
   "execution_count": 183,
   "id": "753f4747",
   "metadata": {},
   "outputs": [],
   "source": [
    "# Split the data into training and testing sets\n",
    "x = df[['Deaths', 'Recovered', 'Active', '% of Deaths from Confirmed', '% of Recovered from Confirmed', '% of Deaths from Recovered','WHO Region','Country/Region']]\n",
    "y = df[['Confirmed']]"
   ]
  },
  {
   "cell_type": "code",
   "execution_count": 184,
   "id": "0ced68f5",
   "metadata": {},
   "outputs": [
    {
     "name": "stdout",
     "output_type": "stream",
     "text": [
      "(38, 8)\n",
      "(149, 8)\n",
      "(38, 1)\n",
      "(149, 1)\n"
     ]
    }
   ],
   "source": [
    "# Split the data into training and testing sets\n",
    "x_train, x_test, y_train, y_test = train_test_split(x, y, test_size=0.20, random_state=42)\n",
    "\n",
    "print(x_test.shape)\n",
    "print(x_train.shape)\n",
    "print(y_test.shape)\n",
    "print(y_train.shape)"
   ]
  },
  {
   "cell_type": "markdown",
   "id": "bb93f3ee",
   "metadata": {},
   "source": [
    "# Step 7 & 8: Choose & implement the data mining technique to be used\n"
   ]
  },
  {
   "cell_type": "code",
   "execution_count": 185,
   "id": "08a24131",
   "metadata": {},
   "outputs": [
    {
     "name": "stdout",
     "output_type": "stream",
     "text": [
      "False\n",
      "False\n"
     ]
    },
    {
     "name": "stderr",
     "output_type": "stream",
     "text": [
      "C:\\Users\\alfon\\AppData\\Local\\Temp\\ipykernel_22188\\3315668644.py:1: DeprecationWarning: `np.float` is a deprecated alias for the builtin `float`. To silence this warning, use `float` by itself. Doing this will not modify any behavior and is safe. If you specifically wanted the numpy scalar type, use `np.float64` here.\n",
      "Deprecated in NumPy 1.20; for more details and guidance: https://numpy.org/devdocs/release/1.20.0-notes.html#deprecations\n",
      "  X = df.values.astype(np.float)\n"
     ]
    }
   ],
   "source": [
    "\n",
    "X = df.values.astype(np.float)\n",
    "\n",
    "# check for NaN values\n",
    "print(np.any(np.isnan(X)))\n",
    "\n",
    "# check for infinity values\n",
    "print(np.any(np.isinf(X)))"
   ]
  },
  {
   "cell_type": "code",
   "execution_count": 174,
   "id": "1b949d30",
   "metadata": {},
   "outputs": [
    {
     "data": {
      "text/html": [
       "<div>\n",
       "<style scoped>\n",
       "    .dataframe tbody tr th:only-of-type {\n",
       "        vertical-align: middle;\n",
       "    }\n",
       "\n",
       "    .dataframe tbody tr th {\n",
       "        vertical-align: top;\n",
       "    }\n",
       "\n",
       "    .dataframe thead th {\n",
       "        text-align: right;\n",
       "    }\n",
       "</style>\n",
       "<table border=\"1\" class=\"dataframe\">\n",
       "  <thead>\n",
       "    <tr style=\"text-align: right;\">\n",
       "      <th></th>\n",
       "      <th>level_0</th>\n",
       "      <th>index</th>\n",
       "      <th>Country/Region</th>\n",
       "      <th>Confirmed</th>\n",
       "      <th>Deaths</th>\n",
       "      <th>Recovered</th>\n",
       "      <th>Active</th>\n",
       "      <th>% of Deaths from Confirmed</th>\n",
       "      <th>% of Recovered from Confirmed</th>\n",
       "      <th>% of Deaths from Recovered</th>\n",
       "      <th>WHO Region</th>\n",
       "    </tr>\n",
       "  </thead>\n",
       "  <tbody>\n",
       "    <tr>\n",
       "      <th>0</th>\n",
       "      <td>0</td>\n",
       "      <td>0</td>\n",
       "      <td>0</td>\n",
       "      <td>36263</td>\n",
       "      <td>1269</td>\n",
       "      <td>25198</td>\n",
       "      <td>9796</td>\n",
       "      <td>3.500</td>\n",
       "      <td>69.490</td>\n",
       "      <td>5.040</td>\n",
       "      <td>2</td>\n",
       "    </tr>\n",
       "    <tr>\n",
       "      <th>1</th>\n",
       "      <td>1</td>\n",
       "      <td>1</td>\n",
       "      <td>1</td>\n",
       "      <td>4880</td>\n",
       "      <td>144</td>\n",
       "      <td>2745</td>\n",
       "      <td>1991</td>\n",
       "      <td>2.950</td>\n",
       "      <td>56.250</td>\n",
       "      <td>5.250</td>\n",
       "      <td>3</td>\n",
       "    </tr>\n",
       "    <tr>\n",
       "      <th>2</th>\n",
       "      <td>2</td>\n",
       "      <td>2</td>\n",
       "      <td>2</td>\n",
       "      <td>27973</td>\n",
       "      <td>1163</td>\n",
       "      <td>18837</td>\n",
       "      <td>7973</td>\n",
       "      <td>4.160</td>\n",
       "      <td>67.340</td>\n",
       "      <td>6.170</td>\n",
       "      <td>0</td>\n",
       "    </tr>\n",
       "    <tr>\n",
       "      <th>3</th>\n",
       "      <td>3</td>\n",
       "      <td>3</td>\n",
       "      <td>3</td>\n",
       "      <td>907</td>\n",
       "      <td>52</td>\n",
       "      <td>803</td>\n",
       "      <td>52</td>\n",
       "      <td>5.730</td>\n",
       "      <td>88.530</td>\n",
       "      <td>6.480</td>\n",
       "      <td>3</td>\n",
       "    </tr>\n",
       "    <tr>\n",
       "      <th>4</th>\n",
       "      <td>4</td>\n",
       "      <td>4</td>\n",
       "      <td>4</td>\n",
       "      <td>950</td>\n",
       "      <td>41</td>\n",
       "      <td>242</td>\n",
       "      <td>667</td>\n",
       "      <td>4.320</td>\n",
       "      <td>25.470</td>\n",
       "      <td>16.940</td>\n",
       "      <td>0</td>\n",
       "    </tr>\n",
       "  </tbody>\n",
       "</table>\n",
       "</div>"
      ],
      "text/plain": [
       "   level_0  index  Country/Region  Confirmed  Deaths  Recovered  Active  \\\n",
       "0        0      0               0      36263    1269      25198    9796   \n",
       "1        1      1               1       4880     144       2745    1991   \n",
       "2        2      2               2      27973    1163      18837    7973   \n",
       "3        3      3               3        907      52        803      52   \n",
       "4        4      4               4        950      41        242     667   \n",
       "\n",
       "   % of Deaths from Confirmed  % of Recovered from Confirmed  \\\n",
       "0                       3.500                         69.490   \n",
       "1                       2.950                         56.250   \n",
       "2                       4.160                         67.340   \n",
       "3                       5.730                         88.530   \n",
       "4                       4.320                         25.470   \n",
       "\n",
       "   % of Deaths from Recovered  WHO Region  \n",
       "0                       5.040           2  \n",
       "1                       5.250           3  \n",
       "2                       6.170           0  \n",
       "3                       6.480           3  \n",
       "4                      16.940           0  "
      ]
     },
     "execution_count": 174,
     "metadata": {},
     "output_type": "execute_result"
    }
   ],
   "source": [
    "# replace infinity with a specific value, such as 999\n",
    "df.replace([np.inf, -np.inf], 999, inplace=True)\n",
    "df.head()"
   ]
  },
  {
   "cell_type": "code",
   "execution_count": 175,
   "id": "e7c37307",
   "metadata": {},
   "outputs": [
    {
     "data": {
      "text/html": [
       "<div>\n",
       "<style scoped>\n",
       "    .dataframe tbody tr th:only-of-type {\n",
       "        vertical-align: middle;\n",
       "    }\n",
       "\n",
       "    .dataframe tbody tr th {\n",
       "        vertical-align: top;\n",
       "    }\n",
       "\n",
       "    .dataframe thead th {\n",
       "        text-align: right;\n",
       "    }\n",
       "</style>\n",
       "<table border=\"1\" class=\"dataframe\">\n",
       "  <thead>\n",
       "    <tr style=\"text-align: right;\">\n",
       "      <th></th>\n",
       "      <th>level_0</th>\n",
       "      <th>index</th>\n",
       "      <th>Country/Region</th>\n",
       "      <th>Confirmed</th>\n",
       "      <th>Deaths</th>\n",
       "      <th>Recovered</th>\n",
       "      <th>Active</th>\n",
       "      <th>% of Deaths from Confirmed</th>\n",
       "      <th>% of Recovered from Confirmed</th>\n",
       "      <th>% of Deaths from Recovered</th>\n",
       "      <th>WHO Region</th>\n",
       "    </tr>\n",
       "  </thead>\n",
       "  <tbody>\n",
       "    <tr>\n",
       "      <th>0</th>\n",
       "      <td>0.000</td>\n",
       "      <td>0.000</td>\n",
       "      <td>0.000</td>\n",
       "      <td>36263.000</td>\n",
       "      <td>1269.000</td>\n",
       "      <td>25198.000</td>\n",
       "      <td>9796.000</td>\n",
       "      <td>3.500</td>\n",
       "      <td>69.490</td>\n",
       "      <td>5.040</td>\n",
       "      <td>2.000</td>\n",
       "    </tr>\n",
       "    <tr>\n",
       "      <th>1</th>\n",
       "      <td>1.000</td>\n",
       "      <td>1.000</td>\n",
       "      <td>1.000</td>\n",
       "      <td>4880.000</td>\n",
       "      <td>144.000</td>\n",
       "      <td>2745.000</td>\n",
       "      <td>1991.000</td>\n",
       "      <td>2.950</td>\n",
       "      <td>56.250</td>\n",
       "      <td>5.250</td>\n",
       "      <td>3.000</td>\n",
       "    </tr>\n",
       "    <tr>\n",
       "      <th>2</th>\n",
       "      <td>2.000</td>\n",
       "      <td>2.000</td>\n",
       "      <td>2.000</td>\n",
       "      <td>27973.000</td>\n",
       "      <td>1163.000</td>\n",
       "      <td>18837.000</td>\n",
       "      <td>7973.000</td>\n",
       "      <td>4.160</td>\n",
       "      <td>67.340</td>\n",
       "      <td>6.170</td>\n",
       "      <td>0.000</td>\n",
       "    </tr>\n",
       "    <tr>\n",
       "      <th>3</th>\n",
       "      <td>3.000</td>\n",
       "      <td>3.000</td>\n",
       "      <td>3.000</td>\n",
       "      <td>907.000</td>\n",
       "      <td>52.000</td>\n",
       "      <td>803.000</td>\n",
       "      <td>52.000</td>\n",
       "      <td>5.730</td>\n",
       "      <td>88.530</td>\n",
       "      <td>6.480</td>\n",
       "      <td>3.000</td>\n",
       "    </tr>\n",
       "    <tr>\n",
       "      <th>4</th>\n",
       "      <td>4.000</td>\n",
       "      <td>4.000</td>\n",
       "      <td>4.000</td>\n",
       "      <td>950.000</td>\n",
       "      <td>41.000</td>\n",
       "      <td>242.000</td>\n",
       "      <td>667.000</td>\n",
       "      <td>4.320</td>\n",
       "      <td>25.470</td>\n",
       "      <td>16.940</td>\n",
       "      <td>0.000</td>\n",
       "    </tr>\n",
       "    <tr>\n",
       "      <th>...</th>\n",
       "      <td>...</td>\n",
       "      <td>...</td>\n",
       "      <td>...</td>\n",
       "      <td>...</td>\n",
       "      <td>...</td>\n",
       "      <td>...</td>\n",
       "      <td>...</td>\n",
       "      <td>...</td>\n",
       "      <td>...</td>\n",
       "      <td>...</td>\n",
       "      <td>...</td>\n",
       "    </tr>\n",
       "    <tr>\n",
       "      <th>182</th>\n",
       "      <td>182.000</td>\n",
       "      <td>182.000</td>\n",
       "      <td>182.000</td>\n",
       "      <td>10621.000</td>\n",
       "      <td>78.000</td>\n",
       "      <td>3752.000</td>\n",
       "      <td>6791.000</td>\n",
       "      <td>0.730</td>\n",
       "      <td>35.330</td>\n",
       "      <td>2.080</td>\n",
       "      <td>2.000</td>\n",
       "    </tr>\n",
       "    <tr>\n",
       "      <th>183</th>\n",
       "      <td>183.000</td>\n",
       "      <td>183.000</td>\n",
       "      <td>183.000</td>\n",
       "      <td>10.000</td>\n",
       "      <td>1.000</td>\n",
       "      <td>8.000</td>\n",
       "      <td>1.000</td>\n",
       "      <td>10.000</td>\n",
       "      <td>80.000</td>\n",
       "      <td>12.500</td>\n",
       "      <td>0.000</td>\n",
       "    </tr>\n",
       "    <tr>\n",
       "      <th>184</th>\n",
       "      <td>184.000</td>\n",
       "      <td>184.000</td>\n",
       "      <td>184.000</td>\n",
       "      <td>1691.000</td>\n",
       "      <td>483.000</td>\n",
       "      <td>833.000</td>\n",
       "      <td>375.000</td>\n",
       "      <td>28.560</td>\n",
       "      <td>49.260</td>\n",
       "      <td>57.980</td>\n",
       "      <td>2.000</td>\n",
       "    </tr>\n",
       "    <tr>\n",
       "      <th>185</th>\n",
       "      <td>185.000</td>\n",
       "      <td>185.000</td>\n",
       "      <td>185.000</td>\n",
       "      <td>4552.000</td>\n",
       "      <td>140.000</td>\n",
       "      <td>2815.000</td>\n",
       "      <td>1597.000</td>\n",
       "      <td>3.080</td>\n",
       "      <td>61.840</td>\n",
       "      <td>4.970</td>\n",
       "      <td>0.000</td>\n",
       "    </tr>\n",
       "    <tr>\n",
       "      <th>186</th>\n",
       "      <td>186.000</td>\n",
       "      <td>186.000</td>\n",
       "      <td>186.000</td>\n",
       "      <td>2704.000</td>\n",
       "      <td>36.000</td>\n",
       "      <td>542.000</td>\n",
       "      <td>2126.000</td>\n",
       "      <td>1.330</td>\n",
       "      <td>20.040</td>\n",
       "      <td>6.640</td>\n",
       "      <td>0.000</td>\n",
       "    </tr>\n",
       "  </tbody>\n",
       "</table>\n",
       "<p>187 rows × 11 columns</p>\n",
       "</div>"
      ],
      "text/plain": [
       "     level_0   index  Country/Region  Confirmed   Deaths  Recovered   Active  \\\n",
       "0      0.000   0.000           0.000  36263.000 1269.000  25198.000 9796.000   \n",
       "1      1.000   1.000           1.000   4880.000  144.000   2745.000 1991.000   \n",
       "2      2.000   2.000           2.000  27973.000 1163.000  18837.000 7973.000   \n",
       "3      3.000   3.000           3.000    907.000   52.000    803.000   52.000   \n",
       "4      4.000   4.000           4.000    950.000   41.000    242.000  667.000   \n",
       "..       ...     ...             ...        ...      ...        ...      ...   \n",
       "182  182.000 182.000         182.000  10621.000   78.000   3752.000 6791.000   \n",
       "183  183.000 183.000         183.000     10.000    1.000      8.000    1.000   \n",
       "184  184.000 184.000         184.000   1691.000  483.000    833.000  375.000   \n",
       "185  185.000 185.000         185.000   4552.000  140.000   2815.000 1597.000   \n",
       "186  186.000 186.000         186.000   2704.000   36.000    542.000 2126.000   \n",
       "\n",
       "     % of Deaths from Confirmed  % of Recovered from Confirmed  \\\n",
       "0                         3.500                         69.490   \n",
       "1                         2.950                         56.250   \n",
       "2                         4.160                         67.340   \n",
       "3                         5.730                         88.530   \n",
       "4                         4.320                         25.470   \n",
       "..                          ...                            ...   \n",
       "182                       0.730                         35.330   \n",
       "183                      10.000                         80.000   \n",
       "184                      28.560                         49.260   \n",
       "185                       3.080                         61.840   \n",
       "186                       1.330                         20.040   \n",
       "\n",
       "     % of Deaths from Recovered  WHO Region  \n",
       "0                         5.040       2.000  \n",
       "1                         5.250       3.000  \n",
       "2                         6.170       0.000  \n",
       "3                         6.480       3.000  \n",
       "4                        16.940       0.000  \n",
       "..                          ...         ...  \n",
       "182                       2.080       2.000  \n",
       "183                      12.500       0.000  \n",
       "184                      57.980       2.000  \n",
       "185                       4.970       0.000  \n",
       "186                       6.640       0.000  \n",
       "\n",
       "[187 rows x 11 columns]"
      ]
     },
     "execution_count": 175,
     "metadata": {},
     "output_type": "execute_result"
    }
   ],
   "source": [
    "def clean_dataset(df):\n",
    "    assert isinstance(df, pd.DataFrame)\n",
    "    df.dropna(inplace=True)\n",
    "    indices_to_keep = ~df.isin([np.nan, np.inf, -np.inf]).any(axis=1)\n",
    "    return df[indices_to_keep].astype(np.float64)\n",
    "clean_dataset(df)"
   ]
  },
  {
   "cell_type": "code",
   "execution_count": 176,
   "id": "8afe0be5",
   "metadata": {},
   "outputs": [
    {
     "name": "stdout",
     "output_type": "stream",
     "text": [
      "False\n",
      "False\n"
     ]
    },
    {
     "name": "stderr",
     "output_type": "stream",
     "text": [
      "C:\\Users\\alfon\\AppData\\Local\\Temp\\ipykernel_22188\\2808075481.py:1: DeprecationWarning: `np.float` is a deprecated alias for the builtin `float`. To silence this warning, use `float` by itself. Doing this will not modify any behavior and is safe. If you specifically wanted the numpy scalar type, use `np.float64` here.\n",
      "Deprecated in NumPy 1.20; for more details and guidance: https://numpy.org/devdocs/release/1.20.0-notes.html#deprecations\n",
      "  X = df.values.astype(np.float)\n"
     ]
    }
   ],
   "source": [
    "X = df.values.astype(np.float)\n",
    "\n",
    "# check for NaN values\n",
    "print(np.any(np.isnan(X)))\n",
    "\n",
    "# check for infinity values\n",
    "print(np.any(np.isinf(X)))"
   ]
  },
  {
   "cell_type": "code",
   "execution_count": 186,
   "id": "4bda9242",
   "metadata": {},
   "outputs": [
    {
     "data": {
      "text/html": [
       "<style>#sk-container-id-4 {color: black;background-color: white;}#sk-container-id-4 pre{padding: 0;}#sk-container-id-4 div.sk-toggleable {background-color: white;}#sk-container-id-4 label.sk-toggleable__label {cursor: pointer;display: block;width: 100%;margin-bottom: 0;padding: 0.3em;box-sizing: border-box;text-align: center;}#sk-container-id-4 label.sk-toggleable__label-arrow:before {content: \"▸\";float: left;margin-right: 0.25em;color: #696969;}#sk-container-id-4 label.sk-toggleable__label-arrow:hover:before {color: black;}#sk-container-id-4 div.sk-estimator:hover label.sk-toggleable__label-arrow:before {color: black;}#sk-container-id-4 div.sk-toggleable__content {max-height: 0;max-width: 0;overflow: hidden;text-align: left;background-color: #f0f8ff;}#sk-container-id-4 div.sk-toggleable__content pre {margin: 0.2em;color: black;border-radius: 0.25em;background-color: #f0f8ff;}#sk-container-id-4 input.sk-toggleable__control:checked~div.sk-toggleable__content {max-height: 200px;max-width: 100%;overflow: auto;}#sk-container-id-4 input.sk-toggleable__control:checked~label.sk-toggleable__label-arrow:before {content: \"▾\";}#sk-container-id-4 div.sk-estimator input.sk-toggleable__control:checked~label.sk-toggleable__label {background-color: #d4ebff;}#sk-container-id-4 div.sk-label input.sk-toggleable__control:checked~label.sk-toggleable__label {background-color: #d4ebff;}#sk-container-id-4 input.sk-hidden--visually {border: 0;clip: rect(1px 1px 1px 1px);clip: rect(1px, 1px, 1px, 1px);height: 1px;margin: -1px;overflow: hidden;padding: 0;position: absolute;width: 1px;}#sk-container-id-4 div.sk-estimator {font-family: monospace;background-color: #f0f8ff;border: 1px dotted black;border-radius: 0.25em;box-sizing: border-box;margin-bottom: 0.5em;}#sk-container-id-4 div.sk-estimator:hover {background-color: #d4ebff;}#sk-container-id-4 div.sk-parallel-item::after {content: \"\";width: 100%;border-bottom: 1px solid gray;flex-grow: 1;}#sk-container-id-4 div.sk-label:hover label.sk-toggleable__label {background-color: #d4ebff;}#sk-container-id-4 div.sk-serial::before {content: \"\";position: absolute;border-left: 1px solid gray;box-sizing: border-box;top: 0;bottom: 0;left: 50%;z-index: 0;}#sk-container-id-4 div.sk-serial {display: flex;flex-direction: column;align-items: center;background-color: white;padding-right: 0.2em;padding-left: 0.2em;position: relative;}#sk-container-id-4 div.sk-item {position: relative;z-index: 1;}#sk-container-id-4 div.sk-parallel {display: flex;align-items: stretch;justify-content: center;background-color: white;position: relative;}#sk-container-id-4 div.sk-item::before, #sk-container-id-4 div.sk-parallel-item::before {content: \"\";position: absolute;border-left: 1px solid gray;box-sizing: border-box;top: 0;bottom: 0;left: 50%;z-index: -1;}#sk-container-id-4 div.sk-parallel-item {display: flex;flex-direction: column;z-index: 1;position: relative;background-color: white;}#sk-container-id-4 div.sk-parallel-item:first-child::after {align-self: flex-end;width: 50%;}#sk-container-id-4 div.sk-parallel-item:last-child::after {align-self: flex-start;width: 50%;}#sk-container-id-4 div.sk-parallel-item:only-child::after {width: 0;}#sk-container-id-4 div.sk-dashed-wrapped {border: 1px dashed gray;margin: 0 0.4em 0.5em 0.4em;box-sizing: border-box;padding-bottom: 0.4em;background-color: white;}#sk-container-id-4 div.sk-label label {font-family: monospace;font-weight: bold;display: inline-block;line-height: 1.2em;}#sk-container-id-4 div.sk-label-container {text-align: center;}#sk-container-id-4 div.sk-container {/* jupyter's `normalize.less` sets `[hidden] { display: none; }` but bootstrap.min.css set `[hidden] { display: none !important; }` so we also need the `!important` here to be able to override the default hidden behavior on the sphinx rendered scikit-learn.org. See: https://github.com/scikit-learn/scikit-learn/issues/21755 */display: inline-block !important;position: relative;}#sk-container-id-4 div.sk-text-repr-fallback {display: none;}</style><div id=\"sk-container-id-4\" class=\"sk-top-container\"><div class=\"sk-text-repr-fallback\"><pre>LinearRegression()</pre><b>In a Jupyter environment, please rerun this cell to show the HTML representation or trust the notebook. <br />On GitHub, the HTML representation is unable to render, please try loading this page with nbviewer.org.</b></div><div class=\"sk-container\" hidden><div class=\"sk-item\"><div class=\"sk-estimator sk-toggleable\"><input class=\"sk-toggleable__control sk-hidden--visually\" id=\"sk-estimator-id-4\" type=\"checkbox\" checked><label for=\"sk-estimator-id-4\" class=\"sk-toggleable__label sk-toggleable__label-arrow\">LinearRegression</label><div class=\"sk-toggleable__content\"><pre>LinearRegression()</pre></div></div></div></div></div>"
      ],
      "text/plain": [
       "LinearRegression()"
      ]
     },
     "execution_count": 186,
     "metadata": {},
     "output_type": "execute_result"
    }
   ],
   "source": [
    "# CREATE the linear regression model\n",
    "model = LinearRegression()\n",
    "\n",
    "# FIT the model to the training data\n",
    "model.fit(x_train, y_train)\n"
   ]
  },
  {
   "cell_type": "code",
   "execution_count": 187,
   "id": "199c382f",
   "metadata": {},
   "outputs": [
    {
     "data": {
      "text/plain": [
       "array([[4.55200e+03],\n",
       "       [1.85400e+03],\n",
       "       [2.65000e+02],\n",
       "       [4.59020e+04],\n",
       "       [7.93950e+04],\n",
       "       [6.72510e+04],\n",
       "       [1.20000e+01],\n",
       "       [4.52529e+05],\n",
       "       [3.43900e+03],\n",
       "       [6.70960e+04],\n",
       "       [2.80500e+03],\n",
       "       [1.56550e+04],\n",
       "       [7.23500e+03],\n",
       "       [2.26000e+02],\n",
       "       [8.11610e+04],\n",
       "       [6.64280e+04],\n",
       "       [5.09000e+02],\n",
       "       [3.01708e+05],\n",
       "       [2.46286e+05],\n",
       "       [9.90000e+01],\n",
       "       [4.11800e+04],\n",
       "       [1.84300e+03],\n",
       "       [8.60000e+01],\n",
       "       [1.14000e+02],\n",
       "       [1.41000e+02],\n",
       "       [2.08700e+03],\n",
       "       [2.05580e+04],\n",
       "       [8.16680e+05],\n",
       "       [5.02990e+04],\n",
       "       [3.44770e+04],\n",
       "       [1.77000e+03],\n",
       "       [2.27019e+05],\n",
       "       [3.97410e+04],\n",
       "       [3.36240e+04],\n",
       "       [1.40000e+01],\n",
       "       [3.47923e+05],\n",
       "       [5.05000e+02],\n",
       "       [2.68934e+05]])"
      ]
     },
     "execution_count": 187,
     "metadata": {},
     "output_type": "execute_result"
    }
   ],
   "source": [
    "# PREDICT on the test data\n",
    "y_pred = model.predict(x_test)\n",
    "\n",
    "y_pred"
   ]
  },
  {
   "cell_type": "code",
   "execution_count": 188,
   "id": "9e4b7334",
   "metadata": {},
   "outputs": [
    {
     "name": "stdout",
     "output_type": "stream",
     "text": [
      "R-squared value: 1.0\n"
     ]
    }
   ],
   "source": [
    "# Calculation for the R-squared value\n",
    "from sklearn.metrics import r2_score\n",
    "r2 = r2_score(y_test, y_pred)\n",
    "print(\"R-squared value:\", r2)"
   ]
  },
  {
   "cell_type": "code",
   "execution_count": 180,
   "id": "5ef3f963",
   "metadata": {},
   "outputs": [
    {
     "ename": "TypeError",
     "evalue": "unsupported operand type(s) for +: 'int' and 'str'",
     "output_type": "error",
     "traceback": [
      "\u001b[1;31m---------------------------------------------------------------------------\u001b[0m",
      "\u001b[1;31mTypeError\u001b[0m                                 Traceback (most recent call last)",
      "Cell \u001b[1;32mIn[180], line 6\u001b[0m\n\u001b[0;32m      4\u001b[0m residuals \u001b[38;5;241m=\u001b[39m y_test \u001b[38;5;241m-\u001b[39m y_pred\n\u001b[0;32m      5\u001b[0m \u001b[38;5;66;03m# Calculate the Mean Error (Average Error)\u001b[39;00m\n\u001b[1;32m----> 6\u001b[0m me \u001b[38;5;241m=\u001b[39m \u001b[38;5;28;43msum\u001b[39;49m\u001b[43m(\u001b[49m\u001b[43mresiduals\u001b[49m\u001b[43m)\u001b[49m \u001b[38;5;241m/\u001b[39m \u001b[38;5;28mlen\u001b[39m(residuals)\n\u001b[0;32m      7\u001b[0m \u001b[38;5;28mprint\u001b[39m(\u001b[38;5;124m\"\u001b[39m\u001b[38;5;124mMean Error:\u001b[39m\u001b[38;5;124m\"\u001b[39m, me)\n\u001b[0;32m      8\u001b[0m \u001b[38;5;66;03m# Calculation mean squared error\u001b[39;00m\n",
      "\u001b[1;31mTypeError\u001b[0m: unsupported operand type(s) for +: 'int' and 'str'"
     ]
    }
   ],
   "source": [
    "#Performance Metrics \n",
    "from sklearn.metrics import mean_squared_error, mean_absolute_error, mean_absolute_percentage_error\n",
    "# Calculate the residuals by subtracting the predicted values from the actual values\n",
    "residuals = y_test - y_pred\n",
    "# Calculate the Mean Error (Average Error)\n",
    "me = sum(residuals) / len(residuals)\n",
    "print(\"Mean Error:\", me)\n",
    "# Calculation mean squared error\n",
    "mse = mean_squared_error(y_test, y_pred)\n",
    "print(\"Mean squared error:\", mse)\n",
    "# Calculate the root mean squared error\n",
    "rmse = mean_squared_error(y_test, y_pred, squared=False)\n",
    "print(\"Root Mean squared error:\", rmse)\n",
    "# Calculate the Mean Absolute Error\n",
    "mae = mean_absolute_error(y_test, y_pred)\n",
    "print(\"Mean Absolute Error:\", mae)\n",
    "# Calculate the Mean Percentage Error\n",
    "mpe =  100 * sum(residuals / y_test) / len(residuals)\n",
    "print(\"Mean Percentage Error:\", mpe)\n",
    "# Calculate the Mean Absolute Percentage Error\n",
    "mape = mean_absolute_percentage_error(y_test, y_pred)\n",
    "print(\"Mean Absolute Percentage Error:\", mape*100)"
   ]
  },
  {
   "cell_type": "code",
   "execution_count": 181,
   "id": "61747702",
   "metadata": {},
   "outputs": [],
   "source": [
    "# Running linear regression model on training dataset using statsmodels\n",
    "import statsmodels.api as sm\n",
    "# Add a constant to get an intercept - you must do this!\n",
    "x_train_sm = sm.add_constant(x_train)\n",
    "# Fit the resgression line using ‘OLS’\n",
    "lr = sm.OLS(y_train, x_train_sm).fit()"
   ]
  },
  {
   "cell_type": "code",
   "execution_count": 182,
   "id": "1938f25e",
   "metadata": {},
   "outputs": [
    {
     "name": "stdout",
     "output_type": "stream",
     "text": [
      "                            OLS Regression Results                            \n",
      "==============================================================================\n",
      "Dep. Variable:              Confirmed   R-squared:                       1.000\n",
      "Model:                            OLS   Adj. R-squared:                  1.000\n",
      "Method:                 Least Squares   F-statistic:                 6.482e+30\n",
      "Date:                Sat, 15 Apr 2023   Prob (F-statistic):               0.00\n",
      "Time:                        20:41:10   Log-Likelihood:                 2921.0\n",
      "No. Observations:                 149   AIC:                            -5826.\n",
      "Df Residuals:                     141   BIC:                            -5802.\n",
      "Df Model:                           7                                         \n",
      "Covariance Type:            nonrobust                                         \n",
      "=================================================================================================\n",
      "                                    coef    std err          t      P>|t|      [0.025      0.975]\n",
      "-------------------------------------------------------------------------------------------------\n",
      "const                          4.366e-11   2.05e-10      0.213      0.831   -3.61e-10    4.48e-10\n",
      "Deaths                            1.0000    1.7e-14   5.88e+13      0.000       1.000       1.000\n",
      "Recovered                         1.0000   7.55e-16   1.32e+15      0.000       1.000       1.000\n",
      "Active                            1.0000   6.98e-16   1.43e+15      0.000       1.000       1.000\n",
      "% of Deaths from Confirmed    -9.095e-13   2.13e-11     -0.043      0.966   -4.31e-11    4.12e-11\n",
      "% of Recovered from Confirmed  5.684e-13   2.76e-12      0.206      0.837   -4.89e-12    6.03e-12\n",
      "% of Deaths from Recovered    -1.918e-13   2.28e-13     -0.842      0.401   -6.42e-13    2.58e-13\n",
      "WHO Region                    -2.728e-12   4.02e-11     -0.068      0.946   -8.23e-11    7.68e-11\n",
      "==============================================================================\n",
      "Omnibus:                      259.654   Durbin-Watson:                   1.997\n",
      "Prob(Omnibus):                  0.000   Jarque-Bera (JB):            33320.515\n",
      "Skew:                           8.091   Prob(JB):                         0.00\n",
      "Kurtosis:                      74.451   Cond. No.                     9.67e+05\n",
      "==============================================================================\n",
      "\n",
      "Notes:\n",
      "[1] Standard Errors assume that the covariance matrix of the errors is correctly specified.\n",
      "[2] The condition number is large, 9.67e+05. This might indicate that there are\n",
      "strong multicollinearity or other numerical problems.\n"
     ]
    }
   ],
   "source": [
    "print(lr.summary())"
   ]
  },
  {
   "cell_type": "code",
   "execution_count": null,
   "id": "a5a13524",
   "metadata": {},
   "outputs": [],
   "source": []
  }
 ],
 "metadata": {
  "kernelspec": {
   "display_name": "Python 3 (ipykernel)",
   "language": "python",
   "name": "python3"
  },
  "language_info": {
   "codemirror_mode": {
    "name": "ipython",
    "version": 3
   },
   "file_extension": ".py",
   "mimetype": "text/x-python",
   "name": "python",
   "nbconvert_exporter": "python",
   "pygments_lexer": "ipython3",
   "version": "3.9.7"
  }
 },
 "nbformat": 4,
 "nbformat_minor": 5
}

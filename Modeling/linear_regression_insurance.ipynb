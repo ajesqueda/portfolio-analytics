{
 "cells": [
  {
   "cell_type": "markdown",
   "id": "c8f48729",
   "metadata": {},
   "source": [
    "# Linear Regression Modeling\n",
    "## Alfonso Esqueda\n",
    "\n",
    "### Attempt with Random Forest Modeling"
   ]
  },
  {
   "cell_type": "code",
   "execution_count": 1,
   "id": "d9983baf",
   "metadata": {},
   "outputs": [],
   "source": [
    "#Import pandas, numpy, and matplotlib.\n",
    "\n",
    "import numpy as np\n",
    "import matplotlib.pyplot as plt\n",
    "import pandas as pd\n",
    "import seaborn as sns"
   ]
  },
  {
   "cell_type": "code",
   "execution_count": 2,
   "id": "1f5a3de8",
   "metadata": {},
   "outputs": [
    {
     "data": {
      "text/html": [
       "<div>\n",
       "<style scoped>\n",
       "    .dataframe tbody tr th:only-of-type {\n",
       "        vertical-align: middle;\n",
       "    }\n",
       "\n",
       "    .dataframe tbody tr th {\n",
       "        vertical-align: top;\n",
       "    }\n",
       "\n",
       "    .dataframe thead th {\n",
       "        text-align: right;\n",
       "    }\n",
       "</style>\n",
       "<table border=\"1\" class=\"dataframe\">\n",
       "  <thead>\n",
       "    <tr style=\"text-align: right;\">\n",
       "      <th></th>\n",
       "      <th>age</th>\n",
       "      <th>sex</th>\n",
       "      <th>bmi</th>\n",
       "      <th>children</th>\n",
       "      <th>smoker</th>\n",
       "      <th>region</th>\n",
       "      <th>charges</th>\n",
       "    </tr>\n",
       "  </thead>\n",
       "  <tbody>\n",
       "    <tr>\n",
       "      <th>0</th>\n",
       "      <td>19.0</td>\n",
       "      <td>female</td>\n",
       "      <td>27.900</td>\n",
       "      <td>0</td>\n",
       "      <td>yes</td>\n",
       "      <td>southwest</td>\n",
       "      <td>16884.92400</td>\n",
       "    </tr>\n",
       "    <tr>\n",
       "      <th>1</th>\n",
       "      <td>18.0</td>\n",
       "      <td>male</td>\n",
       "      <td>33.770</td>\n",
       "      <td>1</td>\n",
       "      <td>no</td>\n",
       "      <td>southeast</td>\n",
       "      <td>NaN</td>\n",
       "    </tr>\n",
       "    <tr>\n",
       "      <th>2</th>\n",
       "      <td>28.0</td>\n",
       "      <td>male</td>\n",
       "      <td>33.000</td>\n",
       "      <td>3</td>\n",
       "      <td>no</td>\n",
       "      <td>southeast</td>\n",
       "      <td>4449.46200</td>\n",
       "    </tr>\n",
       "    <tr>\n",
       "      <th>3</th>\n",
       "      <td>33.0</td>\n",
       "      <td>male</td>\n",
       "      <td>22.705</td>\n",
       "      <td>0</td>\n",
       "      <td>no</td>\n",
       "      <td>northwest</td>\n",
       "      <td>21984.47061</td>\n",
       "    </tr>\n",
       "    <tr>\n",
       "      <th>4</th>\n",
       "      <td>32.0</td>\n",
       "      <td>male</td>\n",
       "      <td>28.880</td>\n",
       "      <td>0</td>\n",
       "      <td>no</td>\n",
       "      <td>northwest</td>\n",
       "      <td>3866.85520</td>\n",
       "    </tr>\n",
       "  </tbody>\n",
       "</table>\n",
       "</div>"
      ],
      "text/plain": [
       "    age     sex     bmi  children smoker     region      charges\n",
       "0  19.0  female  27.900         0    yes  southwest  16884.92400\n",
       "1  18.0    male  33.770         1     no  southeast          NaN\n",
       "2  28.0    male  33.000         3     no  southeast   4449.46200\n",
       "3  33.0    male  22.705         0     no  northwest  21984.47061\n",
       "4  32.0    male  28.880         0     no  northwest   3866.85520"
      ]
     },
     "execution_count": 2,
     "metadata": {},
     "output_type": "execute_result"
    }
   ],
   "source": [
    "# Reading Insurance csv file\n",
    "df = pd.read_csv('insurance.csv')\n",
    "df.head()"
   ]
  },
  {
   "cell_type": "markdown",
   "id": "cebe78a6",
   "metadata": {},
   "source": [
    "### 1.\tPerform EDA on the dataset and provide 5 insights you learn"
   ]
  },
  {
   "cell_type": "code",
   "execution_count": 3,
   "id": "28527fe2",
   "metadata": {},
   "outputs": [
    {
     "data": {
      "text/html": [
       "<div>\n",
       "<style scoped>\n",
       "    .dataframe tbody tr th:only-of-type {\n",
       "        vertical-align: middle;\n",
       "    }\n",
       "\n",
       "    .dataframe tbody tr th {\n",
       "        vertical-align: top;\n",
       "    }\n",
       "\n",
       "    .dataframe thead th {\n",
       "        text-align: right;\n",
       "    }\n",
       "</style>\n",
       "<table border=\"1\" class=\"dataframe\">\n",
       "  <thead>\n",
       "    <tr style=\"text-align: right;\">\n",
       "      <th></th>\n",
       "      <th>age</th>\n",
       "      <th>bmi</th>\n",
       "      <th>children</th>\n",
       "      <th>charges</th>\n",
       "    </tr>\n",
       "  </thead>\n",
       "  <tbody>\n",
       "    <tr>\n",
       "      <th>count</th>\n",
       "      <td>1336.0</td>\n",
       "      <td>1338.0</td>\n",
       "      <td>1338.0</td>\n",
       "      <td>1336.0</td>\n",
       "    </tr>\n",
       "    <tr>\n",
       "      <th>mean</th>\n",
       "      <td>39.0</td>\n",
       "      <td>31.0</td>\n",
       "      <td>1.0</td>\n",
       "      <td>13272.0</td>\n",
       "    </tr>\n",
       "    <tr>\n",
       "      <th>std</th>\n",
       "      <td>14.0</td>\n",
       "      <td>6.0</td>\n",
       "      <td>1.0</td>\n",
       "      <td>12112.0</td>\n",
       "    </tr>\n",
       "    <tr>\n",
       "      <th>min</th>\n",
       "      <td>18.0</td>\n",
       "      <td>16.0</td>\n",
       "      <td>0.0</td>\n",
       "      <td>1122.0</td>\n",
       "    </tr>\n",
       "    <tr>\n",
       "      <th>25%</th>\n",
       "      <td>27.0</td>\n",
       "      <td>26.0</td>\n",
       "      <td>0.0</td>\n",
       "      <td>4744.0</td>\n",
       "    </tr>\n",
       "    <tr>\n",
       "      <th>50%</th>\n",
       "      <td>39.0</td>\n",
       "      <td>30.0</td>\n",
       "      <td>1.0</td>\n",
       "      <td>9382.0</td>\n",
       "    </tr>\n",
       "    <tr>\n",
       "      <th>75%</th>\n",
       "      <td>51.0</td>\n",
       "      <td>35.0</td>\n",
       "      <td>2.0</td>\n",
       "      <td>16604.0</td>\n",
       "    </tr>\n",
       "    <tr>\n",
       "      <th>max</th>\n",
       "      <td>64.0</td>\n",
       "      <td>53.0</td>\n",
       "      <td>5.0</td>\n",
       "      <td>63770.0</td>\n",
       "    </tr>\n",
       "  </tbody>\n",
       "</table>\n",
       "</div>"
      ],
      "text/plain": [
       "          age     bmi  children  charges\n",
       "count  1336.0  1338.0    1338.0   1336.0\n",
       "mean     39.0    31.0       1.0  13272.0\n",
       "std      14.0     6.0       1.0  12112.0\n",
       "min      18.0    16.0       0.0   1122.0\n",
       "25%      27.0    26.0       0.0   4744.0\n",
       "50%      39.0    30.0       1.0   9382.0\n",
       "75%      51.0    35.0       2.0  16604.0\n",
       "max      64.0    53.0       5.0  63770.0"
      ]
     },
     "execution_count": 3,
     "metadata": {},
     "output_type": "execute_result"
    }
   ],
   "source": [
    "df.describe().round(0)"
   ]
  },
  {
   "cell_type": "markdown",
   "id": "d0b0ab87",
   "metadata": {},
   "source": [
    "#### The average of the following:\n",
    "#### -- Age : 39\n",
    "#### -- BMI:  31\n",
    "#### -- Children: 1\n",
    "#### -- Charges: 13,272"
   ]
  },
  {
   "cell_type": "code",
   "execution_count": 4,
   "id": "6fd19812",
   "metadata": {},
   "outputs": [
    {
     "name": "stdout",
     "output_type": "stream",
     "text": [
      "Dataset Column Names\n",
      "Index(['age', 'sex', 'bmi', 'children', 'smoker', 'region', 'charges'], dtype='object')\n",
      "~~~~~~~~~~~~~~~~~~~~~~~\n",
      "Dataset Data Types\n",
      "age         float64\n",
      "sex          object\n",
      "bmi         float64\n",
      "children      int64\n",
      "smoker       object\n",
      "region       object\n",
      "charges     float64\n",
      "dtype: object\n",
      "~~~~~~~~~~~~~~~~~~~~~~~\n",
      "Are there any missing values?\n",
      "['age', 'charges']\n",
      "~~~~~~~~~~~~~~~~~~~~~~~\n",
      "Dataset Dimension\n",
      "(1338, 7)\n",
      "~~~~~~~~~~~~~~~~~~\n"
     ]
    }
   ],
   "source": [
    "# Quick EDA\n",
    "\n",
    "print (\"Dataset Column Names\")\n",
    "print(df.columns)\n",
    "print (\"~~~~~~~~~~~~~~~~~~~~~~~\")\n",
    "\n",
    "print (\"Dataset Data Types\")\n",
    "print(df.dtypes)\n",
    "print (\"~~~~~~~~~~~~~~~~~~~~~~~\")\n",
    "\n",
    "print (\"Are there any missing values?\")\n",
    "print(df.columns[df.isnull().any()].tolist())\n",
    "print (\"~~~~~~~~~~~~~~~~~~~~~~~\")\n",
    "\n",
    "print(\"Dataset Dimension\")\n",
    "print(df.shape)\n",
    "print(\"~~~~~~~~~~~~~~~~~~\")"
   ]
  },
  {
   "cell_type": "markdown",
   "id": "1a1a65bd",
   "metadata": {},
   "source": [
    "#### The data types for this dataset are floats, objects, and integers."
   ]
  },
  {
   "cell_type": "markdown",
   "id": "eb530151",
   "metadata": {},
   "source": [
    "#### There is one conflicting datatype is float in the Age variable since age is usually measured in integers (non decimal numbers) which I will change the dataype later in the document. Another conflicting datatype is Children since it can become an object since there are no arithmetic functions done with children."
   ]
  },
  {
   "cell_type": "code",
   "execution_count": 5,
   "id": "b581587f",
   "metadata": {},
   "outputs": [],
   "source": [
    "#Convert the variable age from float to integer\n",
    "#df[\"age\"] = df[\"age\"].astype(int)"
   ]
  },
  {
   "cell_type": "code",
   "execution_count": 6,
   "id": "3a49b547",
   "metadata": {},
   "outputs": [
    {
     "name": "stdout",
     "output_type": "stream",
     "text": [
      "age         2\n",
      "charges     2\n",
      "sex         0\n",
      "bmi         0\n",
      "children    0\n",
      "dtype: int64\n"
     ]
    }
   ],
   "source": [
    "# Missing Variables\n",
    "print(df.isnull().sum().sort_values(ascending=False).head())"
   ]
  },
  {
   "cell_type": "markdown",
   "id": "40fff951",
   "metadata": {},
   "source": [
    "#### There is missing values in age and charges that wil need imputaiton in order to proceed with the modeling process."
   ]
  },
  {
   "cell_type": "code",
   "execution_count": 7,
   "id": "73e5233d",
   "metadata": {},
   "outputs": [
    {
     "data": {
      "image/png": "[encoded data removed]",
      "text/plain": [
       "<Figure size 1000x1000 with 4 Axes>"
      ]
     },
     "metadata": {},
     "output_type": "display_data"
    }
   ],
   "source": [
    "df.hist(bins=10,figsize= (10,10), color='blue')\n",
    "plt.show()"
   ]
  },
  {
   "cell_type": "markdown",
   "id": "90f09b8b",
   "metadata": {},
   "source": [
    "#### The graphs above help us better understand the numeric values of the dataset. Some variables are not included (sex, smoker, and region) because they are not numeric. \n",
    "\n",
    "\n",
    "#### The following skewed disribution for the variables:\n",
    "#### * BMI has a right distribution with a small right positive skew. The highest peak on the dataset is around 30 BMI indicating the most amount of count values around 30% Body Mass Index.\n",
    "\n",
    "#### * Charges has a right distribution with a positive skew. Shows there is mainly a lower number of high charges and that small chargers are more prominent.\n",
    "\n",
    "#### * Children has a right distribution with a positive skew. The long right tail is not as prominent. We can see that most individuals with few to no kids.\n",
    "\n",
    "#### * Age has a similar right distribution although the tail is the shortest from all the other distribution variables. This makes sense since Age is using integer datatype while it is not needed. The graph then shows a peark at 20 years old which means there is a younger audience in this dataset."
   ]
  },
  {
   "cell_type": "code",
   "execution_count": 56,
   "id": "0d221aa6",
   "metadata": {
    "scrolled": false
   },
   "outputs": [
    {
     "data": {
      "image/png": "[encoded data removed]",
      "text/plain": [
       "<Figure size 640x480 with 1 Axes>"
      ]
     },
     "metadata": {},
     "output_type": "display_data"
    }
   ],
   "source": [
    "# Visualize the distribution of the target variable\n",
    "sns.histplot(df[\"charges\"], kde=True)\n",
    "plt.title(\"Distribution of Charges\")\n",
    "plt.xlabel(\"Charges\")\n",
    "plt.show()"
   ]
  },
  {
   "cell_type": "markdown",
   "id": "fbcaa1ab",
   "metadata": {},
   "source": [
    "#### The distribution of charges is positive right distribution. In a right-skewed distribution, the mean is typically greater than the median, indicating that the average value is higher than the middle value.  This is caused because of the larger avergae charges at the end of the graph."
   ]
  },
  {
   "cell_type": "code",
   "execution_count": 9,
   "id": "b5a46b7b",
   "metadata": {
    "scrolled": false
   },
   "outputs": [
    {
     "data": {
      "image/png": "[encoded data removed]",
      "text/plain": [
       "<Figure size 640x480 with 2 Axes>"
      ]
     },
     "metadata": {},
     "output_type": "display_data"
    }
   ],
   "source": [
    "# Correlation Matrix\n",
    "sns.heatmap(df.corr(), annot=True, cmap=\"coolwarm\",linewidths=0)\n",
    "plt.title(\"Correlation Matrix\")\n",
    "plt.show()"
   ]
  },
  {
   "cell_type": "markdown",
   "id": "c168c457",
   "metadata": {},
   "source": [
    "#### There is a 11% correlation between bmi and age.\n",
    "#### There is a 4.4% correlation between children and age\n",
    "#### There is a 1.3% correlation between children and bmi\n",
    "#### There is a 20% correlation between charges and bmi\n",
    "#### There is a 6.9% correlation between charges and children\n",
    "\n",
    "#### Correlation is an important concept in this EDA  analysis because it measures the degree to which two variables are related or associated with each other. Specifically, correlation refers to the statistical relationship between two variables, where changes in one variable are associated with changes in the other variable."
   ]
  },
  {
   "cell_type": "markdown",
   "id": "2b0da19d",
   "metadata": {},
   "source": [
    "### 2.\tImpute any missing values and explain your approach."
   ]
  },
  {
   "cell_type": "code",
   "execution_count": 10,
   "id": "8e0313e0",
   "metadata": {},
   "outputs": [
    {
     "name": "stdout",
     "output_type": "stream",
     "text": [
      "age         2\n",
      "charges     2\n",
      "sex         0\n",
      "bmi         0\n",
      "children    0\n",
      "dtype: int64\n"
     ]
    }
   ],
   "source": [
    "# Missing Variables\n",
    "print(df.isnull().sum().sort_values(ascending=False).head())"
   ]
  },
  {
   "cell_type": "code",
   "execution_count": 11,
   "id": "9d9e4f86",
   "metadata": {},
   "outputs": [
    {
     "name": "stdout",
     "output_type": "stream",
     "text": [
      "Age median:  39.0\n",
      "Charges median:  9382.033\n"
     ]
    }
   ],
   "source": [
    "age_median = df['age'].median()\n",
    "charges_median = df['charges'].median()\n",
    "\n",
    "print(\"Age median: \", age_median)\n",
    "print(\"Charges median: \", charges_median)"
   ]
  },
  {
   "cell_type": "code",
   "execution_count": 12,
   "id": "72d53c50",
   "metadata": {},
   "outputs": [
    {
     "name": "stdout",
     "output_type": "stream",
     "text": [
      "0       19.0\n",
      "1       18.0\n",
      "2       28.0\n",
      "3       33.0\n",
      "4       32.0\n",
      "        ... \n",
      "1333    50.0\n",
      "1334    18.0\n",
      "1335    18.0\n",
      "1336    21.0\n",
      "1337    39.0\n",
      "Name: age, Length: 1338, dtype: float64\n",
      "0       16884.92\n",
      "1        9382.03\n",
      "2        4449.46\n",
      "3       21984.47\n",
      "4        3866.86\n",
      "          ...   \n",
      "1333    10600.55\n",
      "1334     2205.98\n",
      "1335     1629.83\n",
      "1336     2007.94\n",
      "1337    29141.36\n",
      "Name: charges, Length: 1338, dtype: float64\n"
     ]
    }
   ],
   "source": [
    "df[\"age\"] = df[\"age\"].fillna(df[\"age\"].median()).round(2)\n",
    "print(df[\"age\"])\n",
    "\n",
    "df[\"charges\"] = df[\"charges\"].fillna(df[\"charges\"].median()).round(2)\n",
    "print(df[\"charges\"])"
   ]
  },
  {
   "cell_type": "code",
   "execution_count": 13,
   "id": "98dd8421",
   "metadata": {},
   "outputs": [
    {
     "name": "stdout",
     "output_type": "stream",
     "text": [
      "age         0\n",
      "sex         0\n",
      "bmi         0\n",
      "children    0\n",
      "smoker      0\n",
      "dtype: int64\n"
     ]
    }
   ],
   "source": [
    "# Now the are no missing variables\n",
    "print(df.isnull().sum().sort_values(ascending=False).head())"
   ]
  },
  {
   "cell_type": "markdown",
   "id": "12142e69",
   "metadata": {},
   "source": [
    "#### I used the median (Age = 39.0, Charges = 9,382.03) for the imputation of the missing variables due to the skewed data that was visualized in the beginning of the file. Since the median is less sensitive to outliers than the mean, it provides a better representation of the central tendency of the data. Median imputation is also less affected by extreme values and can be used when the data is not normally distributed."
   ]
  },
  {
   "cell_type": "markdown",
   "id": "2866ca7c",
   "metadata": {},
   "source": [
    "### 3.\tConvert all of the object variables into numeric variables "
   ]
  },
  {
   "cell_type": "code",
   "execution_count": 14,
   "id": "8b344ac9",
   "metadata": {},
   "outputs": [
    {
     "name": "stdout",
     "output_type": "stream",
     "text": [
      "Dataset Data Types\n",
      "age         float64\n",
      "sex          object\n",
      "bmi         float64\n",
      "children      int64\n",
      "smoker       object\n",
      "region       object\n",
      "charges     float64\n",
      "dtype: object\n"
     ]
    }
   ],
   "source": [
    "print (\"Dataset Data Types\")\n",
    "print(df.dtypes)"
   ]
  },
  {
   "cell_type": "code",
   "execution_count": 15,
   "id": "82b05ff1",
   "metadata": {},
   "outputs": [],
   "source": [
    "# create a mapping dictionary\n",
    "smoker_map = {'yes': 1, 'no': 0}\n",
    "# apply the mapping dictionary to the \"Smoker\" column\n",
    "df['smoker'] = df['smoker'].map(smoker_map)\n",
    "# convert the \"Smoker\" column to a numeric data type\n",
    "df['smoker'] = pd.to_numeric(df['smoker'])"
   ]
  },
  {
   "cell_type": "code",
   "execution_count": 16,
   "id": "23d97ad6",
   "metadata": {
    "scrolled": false
   },
   "outputs": [
    {
     "data": {
      "text/plain": [
       "age         float64\n",
       "sex          object\n",
       "bmi         float64\n",
       "children      int64\n",
       "smoker        int64\n",
       "region       object\n",
       "charges     float64\n",
       "dtype: object"
      ]
     },
     "execution_count": 16,
     "metadata": {},
     "output_type": "execute_result"
    }
   ],
   "source": [
    "df.dtypes"
   ]
  },
  {
   "cell_type": "code",
   "execution_count": 17,
   "id": "28f1df9a",
   "metadata": {},
   "outputs": [
    {
     "data": {
      "text/plain": [
       "0    southwest\n",
       "1    southeast\n",
       "2    southeast\n",
       "3    northwest\n",
       "4    northwest\n",
       "Name: region, dtype: object"
      ]
     },
     "execution_count": 17,
     "metadata": {},
     "output_type": "execute_result"
    }
   ],
   "source": [
    "# replace 'soothwest' with 'southwest' in the 'region' column\n",
    "df['region'] = df['region'].replace('soothwest', 'southwest')\n",
    "df['region'].head()"
   ]
  },
  {
   "cell_type": "code",
   "execution_count": 18,
   "id": "b82f9a00",
   "metadata": {},
   "outputs": [],
   "source": [
    "# create mapping dictionaries\n",
    "sex_map = {'male': 0, 'female': 1}\n",
    "region_map = {'northeast': 0, 'northwest': 1, 'southwest': 2, 'southeast': 3}\n",
    "\n",
    "# apply mapping dictionaries to \"sex\" and \"region\" columns\n",
    "df['sex'] = df['sex'].map(sex_map)\n",
    "df['region'] = df['region'].map(region_map)"
   ]
  },
  {
   "cell_type": "code",
   "execution_count": 19,
   "id": "4c4f34c6",
   "metadata": {},
   "outputs": [
    {
     "name": "stdout",
     "output_type": "stream",
     "text": [
      "age         float64\n",
      "sex           int64\n",
      "bmi         float64\n",
      "children      int64\n",
      "smoker        int64\n",
      "region        int64\n",
      "charges     float64\n",
      "dtype: object\n",
      "    age  sex     bmi  children  smoker  region   charges\n",
      "0  19.0    1  27.900         0       1       2  16884.92\n",
      "1  18.0    0  33.770         1       0       3   9382.03\n",
      "2  28.0    0  33.000         3       0       3   4449.46\n",
      "3  33.0    0  22.705         0       0       1  21984.47\n",
      "4  32.0    0  28.880         0       0       1   3866.86\n"
     ]
    }
   ],
   "source": [
    "print(df.dtypes)\n",
    "print(df.head())"
   ]
  },
  {
   "cell_type": "markdown",
   "id": "9e5788fd",
   "metadata": {},
   "source": [
    "#### I used the mapping function to make the object variables (sex, smoker, and region)\n",
    "#### I learned how to do it in the following link https://www.geeksforgeeks.org/python-map-function/"
   ]
  },
  {
   "cell_type": "markdown",
   "id": "dc8dd2d5",
   "metadata": {},
   "source": [
    "### 4.\tSplit the dataset into training and test set. "
   ]
  },
  {
   "cell_type": "code",
   "execution_count": 20,
   "id": "e0a933a0",
   "metadata": {},
   "outputs": [
    {
     "data": {
      "text/plain": [
       "Index(['age', 'sex', 'bmi', 'children', 'smoker', 'region', 'charges'], dtype='object')"
      ]
     },
     "execution_count": 20,
     "metadata": {},
     "output_type": "execute_result"
    }
   ],
   "source": [
    "df.columns"
   ]
  },
  {
   "cell_type": "code",
   "execution_count": 21,
   "id": "0d89e9c5",
   "metadata": {},
   "outputs": [],
   "source": [
    "from sklearn.model_selection import train_test_split"
   ]
  },
  {
   "cell_type": "code",
   "execution_count": 22,
   "id": "84ffbb7c",
   "metadata": {},
   "outputs": [
    {
     "name": "stdout",
     "output_type": "stream",
     "text": [
      "(268, 6)\n",
      "(1070, 6)\n",
      "(268,)\n",
      "(1070,)\n"
     ]
    }
   ],
   "source": [
    "# random_state: select random number. This will ensure that your test/train split remains the same across executions\n",
    "\n",
    "# Select relevant features\n",
    "x = df[['age', 'sex', 'bmi', 'children', 'smoker', 'region']]\n",
    "\n",
    "# Select the target variable\n",
    "y = df['charges']\n",
    "\n",
    "# Split the data into training and testing sets\n",
    "x_train, x_test, y_train, y_test = train_test_split(x, y, test_size=0.2, random_state=42)\n",
    "\n",
    "print(x_test.shape)\n",
    "print(x_train.shape)\n",
    "print(y_test.shape)\n",
    "print(y_train.shape)"
   ]
  },
  {
   "cell_type": "markdown",
   "id": "09df17c4",
   "metadata": {},
   "source": [
    "#### I chose an 80 - 20 split for my test and train set."
   ]
  },
  {
   "cell_type": "markdown",
   "id": "7085068b",
   "metadata": {},
   "source": [
    "### 5.\tUsing all the predictors given, run a “full” multiple linear regression model."
   ]
  },
  {
   "cell_type": "code",
   "execution_count": 23,
   "id": "673da1c6",
   "metadata": {},
   "outputs": [],
   "source": [
    "# Running linear regression model on training dataset using statsmodels\n",
    "import statsmodels.api as sm\n",
    "# Add a constant to get an intercept - you must do this!\n",
    "x_train_sm = sm.add_constant(x_train)\n",
    "# Fit the resgression line using ‘OLS’\n",
    "lr = sm.OLS(y_train, x_train_sm).fit()"
   ]
  },
  {
   "cell_type": "markdown",
   "id": "6ab503ec",
   "metadata": {},
   "source": [
    "### OLS Model\n",
    "#### This is model is not beneficial since it is not commonly used to perform operations with but I added it to have a reference of what to expect for stats from the insurance data.\n",
    "\n",
    "#### My first model is the full kitchen sink model, further in this document."
   ]
  },
  {
   "cell_type": "code",
   "execution_count": 24,
   "id": "4b194ad9",
   "metadata": {},
   "outputs": [
    {
     "name": "stdout",
     "output_type": "stream",
     "text": [
      "                            OLS Regression Results                            \n",
      "==============================================================================\n",
      "Dep. Variable:                charges   R-squared:                       0.739\n",
      "Model:                            OLS   Adj. R-squared:                  0.737\n",
      "Method:                 Least Squares   F-statistic:                     500.6\n",
      "Date:                Wed, 12 Apr 2023   Prob (F-statistic):          1.58e-305\n",
      "Time:                        16:51:37   Log-Likelihood:                -10851.\n",
      "No. Observations:                1070   AIC:                         2.172e+04\n",
      "Df Residuals:                    1063   BIC:                         2.175e+04\n",
      "Df Model:                           6                                         \n",
      "Covariance Type:            nonrobust                                         \n",
      "==============================================================================\n",
      "                 coef    std err          t      P>|t|      [0.025      0.975]\n",
      "------------------------------------------------------------------------------\n",
      "const      -1.218e+04   1093.836    -11.140      0.000   -1.43e+04      -1e+04\n",
      "age          255.2826     13.548     18.843      0.000     228.699     281.866\n",
      "sex           38.2101    377.812      0.101      0.919    -703.132     779.552\n",
      "bmi          342.7322     32.484     10.551      0.000     278.993     406.471\n",
      "children     429.7152    155.297      2.767      0.006     124.991     734.439\n",
      "smoker      2.363e+04    467.973     50.487      0.000    2.27e+04    2.45e+04\n",
      "region      -224.5467    172.450     -1.302      0.193    -562.927     113.834\n",
      "==============================================================================\n",
      "Omnibus:                      243.739   Durbin-Watson:                   2.086\n",
      "Prob(Omnibus):                  0.000   Jarque-Bera (JB):              607.268\n",
      "Skew:                           1.200   Prob(JB):                    1.36e-132\n",
      "Kurtosis:                       5.803   Cond. No.                         300.\n",
      "==============================================================================\n",
      "\n",
      "Notes:\n",
      "[1] Standard Errors assume that the covariance matrix of the errors is correctly specified.\n"
     ]
    }
   ],
   "source": [
    "print(lr.summary())"
   ]
  },
  {
   "cell_type": "markdown",
   "id": "0e76ad35",
   "metadata": {},
   "source": [
    "### Kitchen Sink Model"
   ]
  },
  {
   "cell_type": "code",
   "execution_count": 25,
   "id": "8b9f8502",
   "metadata": {},
   "outputs": [
    {
     "data": {
      "text/html": [
       "<style>#sk-container-id-1 {color: black;background-color: white;}#sk-container-id-1 pre{padding: 0;}#sk-container-id-1 div.sk-toggleable {background-color: white;}#sk-container-id-1 label.sk-toggleable__label {cursor: pointer;display: block;width: 100%;margin-bottom: 0;padding: 0.3em;box-sizing: border-box;text-align: center;}#sk-container-id-1 label.sk-toggleable__label-arrow:before {content: \"▸\";float: left;margin-right: 0.25em;color: #696969;}#sk-container-id-1 label.sk-toggleable__label-arrow:hover:before {color: black;}#sk-container-id-1 div.sk-estimator:hover label.sk-toggleable__label-arrow:before {color: black;}#sk-container-id-1 div.sk-toggleable__content {max-height: 0;max-width: 0;overflow: hidden;text-align: left;background-color: #f0f8ff;}#sk-container-id-1 div.sk-toggleable__content pre {margin: 0.2em;color: black;border-radius: 0.25em;background-color: #f0f8ff;}#sk-container-id-1 input.sk-toggleable__control:checked~div.sk-toggleable__content {max-height: 200px;max-width: 100%;overflow: auto;}#sk-container-id-1 input.sk-toggleable__control:checked~label.sk-toggleable__label-arrow:before {content: \"▾\";}#sk-container-id-1 div.sk-estimator input.sk-toggleable__control:checked~label.sk-toggleable__label {background-color: #d4ebff;}#sk-container-id-1 div.sk-label input.sk-toggleable__control:checked~label.sk-toggleable__label {background-color: #d4ebff;}#sk-container-id-1 input.sk-hidden--visually {border: 0;clip: rect(1px 1px 1px 1px);clip: rect(1px, 1px, 1px, 1px);height: 1px;margin: -1px;overflow: hidden;padding: 0;position: absolute;width: 1px;}#sk-container-id-1 div.sk-estimator {font-family: monospace;background-color: #f0f8ff;border: 1px dotted black;border-radius: 0.25em;box-sizing: border-box;margin-bottom: 0.5em;}#sk-container-id-1 div.sk-estimator:hover {background-color: #d4ebff;}#sk-container-id-1 div.sk-parallel-item::after {content: \"\";width: 100%;border-bottom: 1px solid gray;flex-grow: 1;}#sk-container-id-1 div.sk-label:hover label.sk-toggleable__label {background-color: #d4ebff;}#sk-container-id-1 div.sk-serial::before {content: \"\";position: absolute;border-left: 1px solid gray;box-sizing: border-box;top: 0;bottom: 0;left: 50%;z-index: 0;}#sk-container-id-1 div.sk-serial {display: flex;flex-direction: column;align-items: center;background-color: white;padding-right: 0.2em;padding-left: 0.2em;position: relative;}#sk-container-id-1 div.sk-item {position: relative;z-index: 1;}#sk-container-id-1 div.sk-parallel {display: flex;align-items: stretch;justify-content: center;background-color: white;position: relative;}#sk-container-id-1 div.sk-item::before, #sk-container-id-1 div.sk-parallel-item::before {content: \"\";position: absolute;border-left: 1px solid gray;box-sizing: border-box;top: 0;bottom: 0;left: 50%;z-index: -1;}#sk-container-id-1 div.sk-parallel-item {display: flex;flex-direction: column;z-index: 1;position: relative;background-color: white;}#sk-container-id-1 div.sk-parallel-item:first-child::after {align-self: flex-end;width: 50%;}#sk-container-id-1 div.sk-parallel-item:last-child::after {align-self: flex-start;width: 50%;}#sk-container-id-1 div.sk-parallel-item:only-child::after {width: 0;}#sk-container-id-1 div.sk-dashed-wrapped {border: 1px dashed gray;margin: 0 0.4em 0.5em 0.4em;box-sizing: border-box;padding-bottom: 0.4em;background-color: white;}#sk-container-id-1 div.sk-label label {font-family: monospace;font-weight: bold;display: inline-block;line-height: 1.2em;}#sk-container-id-1 div.sk-label-container {text-align: center;}#sk-container-id-1 div.sk-container {/* jupyter's `normalize.less` sets `[hidden] { display: none; }` but bootstrap.min.css set `[hidden] { display: none !important; }` so we also need the `!important` here to be able to override the default hidden behavior on the sphinx rendered scikit-learn.org. See: https://github.com/scikit-learn/scikit-learn/issues/21755 */display: inline-block !important;position: relative;}#sk-container-id-1 div.sk-text-repr-fallback {display: none;}</style><div id=\"sk-container-id-1\" class=\"sk-top-container\"><div class=\"sk-text-repr-fallback\"><pre>LinearRegression()</pre><b>In a Jupyter environment, please rerun this cell to show the HTML representation or trust the notebook. <br />On GitHub, the HTML representation is unable to render, please try loading this page with nbviewer.org.</b></div><div class=\"sk-container\" hidden><div class=\"sk-item\"><div class=\"sk-estimator sk-toggleable\"><input class=\"sk-toggleable__control sk-hidden--visually\" id=\"sk-estimator-id-1\" type=\"checkbox\" checked><label for=\"sk-estimator-id-1\" class=\"sk-toggleable__label sk-toggleable__label-arrow\">LinearRegression</label><div class=\"sk-toggleable__content\"><pre>LinearRegression()</pre></div></div></div></div></div>"
      ],
      "text/plain": [
       "LinearRegression()"
      ]
     },
     "execution_count": 25,
     "metadata": {},
     "output_type": "execute_result"
    }
   ],
   "source": [
    "from sklearn.linear_model import LinearRegression\n",
    "\n",
    "# CREATE the linear regression model\n",
    "model = LinearRegression()\n",
    "\n",
    "# FIT the model to the training data\n",
    "model.fit(x_train, y_train)"
   ]
  },
  {
   "cell_type": "code",
   "execution_count": 26,
   "id": "cafa5ffb",
   "metadata": {},
   "outputs": [
    {
     "data": {
      "text/html": [
       "<div>\n",
       "<style scoped>\n",
       "    .dataframe tbody tr th:only-of-type {\n",
       "        vertical-align: middle;\n",
       "    }\n",
       "\n",
       "    .dataframe tbody tr th {\n",
       "        vertical-align: top;\n",
       "    }\n",
       "\n",
       "    .dataframe thead th {\n",
       "        text-align: right;\n",
       "    }\n",
       "</style>\n",
       "<table border=\"1\" class=\"dataframe\">\n",
       "  <thead>\n",
       "    <tr style=\"text-align: right;\">\n",
       "      <th></th>\n",
       "      <th>Predictor</th>\n",
       "      <th>coefficient</th>\n",
       "    </tr>\n",
       "  </thead>\n",
       "  <tbody>\n",
       "    <tr>\n",
       "      <th>0</th>\n",
       "      <td>age</td>\n",
       "      <td>255.282594</td>\n",
       "    </tr>\n",
       "    <tr>\n",
       "      <th>1</th>\n",
       "      <td>sex</td>\n",
       "      <td>38.210103</td>\n",
       "    </tr>\n",
       "    <tr>\n",
       "      <th>2</th>\n",
       "      <td>bmi</td>\n",
       "      <td>342.732244</td>\n",
       "    </tr>\n",
       "    <tr>\n",
       "      <th>3</th>\n",
       "      <td>children</td>\n",
       "      <td>429.715171</td>\n",
       "    </tr>\n",
       "    <tr>\n",
       "      <th>4</th>\n",
       "      <td>smoker</td>\n",
       "      <td>23626.338282</td>\n",
       "    </tr>\n",
       "    <tr>\n",
       "      <th>5</th>\n",
       "      <td>region</td>\n",
       "      <td>-224.546714</td>\n",
       "    </tr>\n",
       "  </tbody>\n",
       "</table>\n",
       "</div>"
      ],
      "text/plain": [
       "  Predictor   coefficient\n",
       "0       age    255.282594\n",
       "1       sex     38.210103\n",
       "2       bmi    342.732244\n",
       "3  children    429.715171\n",
       "4    smoker  23626.338282\n",
       "5    region   -224.546714"
      ]
     },
     "execution_count": 26,
     "metadata": {},
     "output_type": "execute_result"
    }
   ],
   "source": [
    "#let's use pandas to rearrange the data in a way that is easy to read\n",
    "coeff = pd.DataFrame({'Predictor': x.columns, 'coefficient': model.coef_})\n",
    "coeff"
   ]
  },
  {
   "cell_type": "markdown",
   "id": "2cb54c0c",
   "metadata": {},
   "source": [
    "### Layman's term\n",
    "#### For each additional 1unit in age, charges will increase by 255.28\n",
    "#### For each additional 1unit in sex, charges will increase by 38.21\n",
    "#### For each additional 1unit in bmi, charges will increase by 342.73\n",
    "#### For each additional 1unit in children, charges will increase by 429.71\n",
    "#### For each additional 1unit in smoker, charges will increase by 23626.33\n",
    "#### For each additional 1unit in region, charges will decrease by -224.54"
   ]
  },
  {
   "cell_type": "code",
   "execution_count": 27,
   "id": "518daaca",
   "metadata": {
    "scrolled": false
   },
   "outputs": [
    {
     "data": {
      "text/plain": [
       "array([ 8828.69119214,  7107.70851346, 36807.49383751,  9446.28951934,\n",
       "       27007.22386092, 11178.49298307,   195.69892715, 16919.85478123,\n",
       "         927.01301033, 11221.48375944, 28302.58471828,  9400.69910112,\n",
       "        5153.97723558, 38314.60328575, 40109.30697615, 36971.45375609,\n",
       "       15175.70935759, 35788.23720432,  8965.97367475, 31446.55936728,\n",
       "        4087.89768786, 10375.60938545,  2635.38585415,  7111.93392149,\n",
       "       11319.61907746, 12839.00968512, 14751.02385098,  6229.54893595,\n",
       "        9827.6498275 ,  2066.44616309,  9376.38564479, 13087.27468415,\n",
       "        4491.62756205,  3413.84476741,  4714.98628467, 12945.22347607,\n",
       "        2242.94734039,  9058.72725851, 33229.59055078, 32451.81146005,\n",
       "        4205.25377512,  4381.0911526 , 14399.52121789, 11378.13903532,\n",
       "        8677.84330211, 12282.4812707 ,  5375.16334982,  3403.770346  ,\n",
       "       35362.12378745,  9072.09123867, 15703.60361147,  2232.25750657,\n",
       "       12465.70164194,  1364.01634473, 13237.50605511, 12443.74217021,\n",
       "        4199.49052831, 32206.30914364, 13554.9941753 , 12779.08447039,\n",
       "       14385.85522718, 10476.14226236, 16599.97409967,  7773.17757052,\n",
       "       11709.81279702,  4095.10171746, 26880.3084625 , 10753.38127451,\n",
       "        2157.10966145,  6520.09705618, 10643.73315843, 11525.94102459,\n",
       "       10856.44993942,  9040.82191293, 11847.94814644,  6624.34186147,\n",
       "        7164.75549963, 10715.62048351,  6497.12676525,  8989.24736404,\n",
       "        3670.32720915, 36418.14613401,  6646.06067346, 30778.51955515,\n",
       "       34834.5415476 , 35112.97141997,  6909.08991203, 12864.09502503,\n",
       "        9982.03395524, 14729.07947111, 17596.59587981, 35023.45831947,\n",
       "       32861.47512228,  6063.07341807, 31874.46641279,  9727.9513002 ,\n",
       "       29281.74991477,  3595.43567192, 28310.00601357,  5689.79311666,\n",
       "        5452.21554783,  2159.49759141, 11406.39613043, 15323.56113057,\n",
       "       11494.6192363 ,  4230.3864892 ,  9751.7266794 , 31460.82929415,\n",
       "        -231.40225118, 32607.36441198,  3560.762913  , 10155.8035645 ,\n",
       "       14192.17654224, 31528.9347567 , 11341.12062376,  4211.4874538 ,\n",
       "       12932.43392793, 32018.0375311 ,  8040.65917279,  3268.87209279,\n",
       "        8358.43035918, 10637.96250203, 15141.44863115,  5558.5701618 ,\n",
       "        3808.50649884, 10285.45784715, 10801.46362539, 10977.31488865,\n",
       "       14305.46776777,  7376.81764429,  5263.90656461,  9128.01655218,\n",
       "        9264.31913989, 12462.48056846,  8601.8052195 , 15572.71081328,\n",
       "        8318.9733175 , 31996.13089649, 35836.90648519, 31474.3526086 ,\n",
       "        6033.24292846, 12496.43622502,  5918.33316207, 14623.86584872,\n",
       "        2345.40244615, 33134.51752231,  6283.97276556,  5291.43516607,\n",
       "       14407.5836681 ,  7183.89575106, 38707.28495372,  3137.84353016,\n",
       "        5836.50084729, 31566.23160304, 11662.10038566,  8378.89853223,\n",
       "       14647.7029533 ,  9673.66283067, 27004.19190701, 33315.45628497,\n",
       "       14426.53433453,  1732.43924671, 13337.41814755,  2086.91673975,\n",
       "        5733.94590482, 11465.49375544, 40034.31374896, 36485.69602395,\n",
       "       33848.19321252,  4171.01829596,  7642.92552288,  8928.70071768,\n",
       "       12390.3148086 ,  4822.73939563,  2308.42733364, 31904.57132313,\n",
       "       25336.34707736, 17353.29688199, 26372.16311256, 10124.35443461,\n",
       "       37069.79402612,  -593.04779094,  6725.77016358,  8063.5664414 ,\n",
       "        4224.00699   ,  5183.90209897,  5806.54388587,  4556.32743062,\n",
       "       15140.24212277, 11105.87861321,  7241.9677785 ,  2444.13246985,\n",
       "        1414.01036468, 32206.66584454, 16277.22349172, 11886.20154878,\n",
       "        1309.16492535, 12396.05750061,  1467.34557439,  8942.24159459,\n",
       "        1884.99839435, 33868.69042428, 10814.93762748,  2644.8973257 ,\n",
       "       25540.25850221, 26181.21109758,  9406.19132275,  1827.41790139,\n",
       "       13155.67374034,  1344.77714917, 10527.94719227, 10379.16197362,\n",
       "       16930.82851277, 26679.42988414,  6770.16786833,  5084.24927433,\n",
       "        5722.70104876, 13068.6766435 , 10903.79731791,  8269.09576587,\n",
       "        5232.04339706, 12367.71547891, 13823.34243929, 35648.71900607,\n",
       "        4211.85248667, 28773.41803915,  -685.18003394,  2925.0516943 ,\n",
       "       10882.78638371, 15620.43368509,  5132.02730191,  6834.44245987,\n",
       "        4098.0052231 , 31497.40255346,  7187.40374323, 12279.93992889,\n",
       "        5669.13888336,  9774.99481489, 36223.35799923,  4331.69458416,\n",
       "        9454.21120759, 31421.91486168,  5829.89945098,  4501.23109465,\n",
       "        1069.15659294,  4874.82766696,  4836.64613694,  6760.78021362,\n",
       "       18625.62288635, -1568.16802478,  2654.69275605, 10964.85383422,\n",
       "        3394.57097934, 10023.30551659,  3816.25129034,  5037.65998451,\n",
       "       12587.87383477,  6281.32973379,  8040.51335227,  7507.78558821,\n",
       "        8962.15051835, 10429.17441989, 27651.02286796, 38877.02577498,\n",
       "       11747.13868206,  7550.57465617, 40840.1537802 , 12574.73665836])"
      ]
     },
     "execution_count": 27,
     "metadata": {},
     "output_type": "execute_result"
    }
   ],
   "source": [
    "# PREDICT on the test data\n",
    "y_pred = model.predict(x_test)\n",
    "y_pred"
   ]
  },
  {
   "cell_type": "code",
   "execution_count": 28,
   "id": "8f1b2c57",
   "metadata": {},
   "outputs": [
    {
     "data": {
      "text/html": [
       "<div>\n",
       "<style scoped>\n",
       "    .dataframe tbody tr th:only-of-type {\n",
       "        vertical-align: middle;\n",
       "    }\n",
       "\n",
       "    .dataframe tbody tr th {\n",
       "        vertical-align: top;\n",
       "    }\n",
       "\n",
       "    .dataframe thead th {\n",
       "        text-align: right;\n",
       "    }\n",
       "</style>\n",
       "<table border=\"1\" class=\"dataframe\">\n",
       "  <thead>\n",
       "    <tr style=\"text-align: right;\">\n",
       "      <th></th>\n",
       "      <th>Actual</th>\n",
       "      <th>Predicted</th>\n",
       "      <th>Diff</th>\n",
       "    </tr>\n",
       "  </thead>\n",
       "  <tbody>\n",
       "    <tr>\n",
       "      <th>764</th>\n",
       "      <td>9095.07</td>\n",
       "      <td>8828.691192</td>\n",
       "      <td>-266.378808</td>\n",
       "    </tr>\n",
       "    <tr>\n",
       "      <th>887</th>\n",
       "      <td>5272.18</td>\n",
       "      <td>7107.708513</td>\n",
       "      <td>1835.528513</td>\n",
       "    </tr>\n",
       "    <tr>\n",
       "      <th>890</th>\n",
       "      <td>29330.98</td>\n",
       "      <td>36807.493838</td>\n",
       "      <td>7476.513838</td>\n",
       "    </tr>\n",
       "    <tr>\n",
       "      <th>1293</th>\n",
       "      <td>9301.89</td>\n",
       "      <td>9446.289519</td>\n",
       "      <td>144.399519</td>\n",
       "    </tr>\n",
       "    <tr>\n",
       "      <th>259</th>\n",
       "      <td>33750.29</td>\n",
       "      <td>27007.223861</td>\n",
       "      <td>-6743.066139</td>\n",
       "    </tr>\n",
       "    <tr>\n",
       "      <th>...</th>\n",
       "      <td>...</td>\n",
       "      <td>...</td>\n",
       "      <td>...</td>\n",
       "    </tr>\n",
       "    <tr>\n",
       "      <th>109</th>\n",
       "      <td>47055.53</td>\n",
       "      <td>38877.025775</td>\n",
       "      <td>-8178.504225</td>\n",
       "    </tr>\n",
       "    <tr>\n",
       "      <th>575</th>\n",
       "      <td>12222.90</td>\n",
       "      <td>11747.138682</td>\n",
       "      <td>-475.761318</td>\n",
       "    </tr>\n",
       "    <tr>\n",
       "      <th>535</th>\n",
       "      <td>6067.13</td>\n",
       "      <td>7550.574656</td>\n",
       "      <td>1483.444656</td>\n",
       "    </tr>\n",
       "    <tr>\n",
       "      <th>543</th>\n",
       "      <td>63770.43</td>\n",
       "      <td>40840.153780</td>\n",
       "      <td>-22930.276220</td>\n",
       "    </tr>\n",
       "    <tr>\n",
       "      <th>846</th>\n",
       "      <td>9872.70</td>\n",
       "      <td>12574.736658</td>\n",
       "      <td>2702.036658</td>\n",
       "    </tr>\n",
       "  </tbody>\n",
       "</table>\n",
       "<p>268 rows × 3 columns</p>\n",
       "</div>"
      ],
      "text/plain": [
       "        Actual     Predicted          Diff\n",
       "764    9095.07   8828.691192   -266.378808\n",
       "887    5272.18   7107.708513   1835.528513\n",
       "890   29330.98  36807.493838   7476.513838\n",
       "1293   9301.89   9446.289519    144.399519\n",
       "259   33750.29  27007.223861  -6743.066139\n",
       "...        ...           ...           ...\n",
       "109   47055.53  38877.025775  -8178.504225\n",
       "575   12222.90  11747.138682   -475.761318\n",
       "535    6067.13   7550.574656   1483.444656\n",
       "543   63770.43  40840.153780 -22930.276220\n",
       "846    9872.70  12574.736658   2702.036658\n",
       "\n",
       "[268 rows x 3 columns]"
      ]
     },
     "execution_count": 28,
     "metadata": {},
     "output_type": "execute_result"
    }
   ],
   "source": [
    "# Actual vs Predicted Values\n",
    "diff = pd.DataFrame({'Actual': y_test, 'Predicted': y_pred, 'Diff': y_pred-y_test})\n",
    "diff"
   ]
  },
  {
   "cell_type": "code",
   "execution_count": 29,
   "id": "9eeb802d",
   "metadata": {},
   "outputs": [
    {
     "name": "stdout",
     "output_type": "stream",
     "text": [
      "R-squared value: 0.7836765301428436\n"
     ]
    }
   ],
   "source": [
    "# Calculation for the R-squared value\n",
    "from sklearn.metrics import r2_score\n",
    "r2 = r2_score(y_test, y_pred)\n",
    "print(\"R-squared value:\", r2)"
   ]
  },
  {
   "cell_type": "markdown",
   "id": "ed43a5f6",
   "metadata": {},
   "source": [
    "#### The goodness of fit is 78.36% which means that the predictions are almost 80% close to tge actual charges for the insurance data."
   ]
  },
  {
   "cell_type": "markdown",
   "id": "79ebdce7",
   "metadata": {},
   "source": [
    "### 6.\tWhat is the expected performance of the model on the test set? "
   ]
  },
  {
   "cell_type": "code",
   "execution_count": 30,
   "id": "156819b3",
   "metadata": {},
   "outputs": [
    {
     "name": "stdout",
     "output_type": "stream",
     "text": [
      "Mean Error: -218.82874494355008\n",
      "Mean squared error: 33583944.828184694\n",
      "Root Mean squared error: 5795.165642859977\n",
      "Mean Absolute Error: 4187.817666847754\n",
      "Mean Percentage Error: -23.36631895944725\n",
      "Mean Absolute Percentage Error: 47.16264551602819\n"
     ]
    }
   ],
   "source": [
    "#Performance Metrics \n",
    "from sklearn.metrics import mean_squared_error, mean_absolute_error, mean_absolute_percentage_error\n",
    "# Calculate the residuals by subtracting the predicted values from the actual values\n",
    "residuals = y_test - y_pred\n",
    "# Calculate the Mean Error (Average Error)\n",
    "me = sum(residuals) / len(residuals)\n",
    "print(\"Mean Error:\", me)\n",
    "# Calculation mean squared error\n",
    "mse = mean_squared_error(y_test, y_pred)\n",
    "print(\"Mean squared error:\", mse)\n",
    "# Calculate the root mean squared error\n",
    "rmse = mean_squared_error(y_test, y_pred, squared=False)\n",
    "print(\"Root Mean squared error:\", rmse)\n",
    "# Calculate the Mean Absolute Error\n",
    "mae = mean_absolute_error(y_test, y_pred)\n",
    "print(\"Mean Absolute Error:\", mae)\n",
    "# Calculate the Mean Percentage Error\n",
    "mpe =  100 * sum(residuals / y_test) / len(residuals)\n",
    "print(\"Mean Percentage Error:\", mpe)\n",
    "# Calculate the Mean Absolute Percentage Error\n",
    "mape = mean_absolute_percentage_error(y_test, y_pred)\n",
    "print(\"Mean Absolute Percentage Error:\", mape*100)"
   ]
  },
  {
   "cell_type": "markdown",
   "id": "5c29b88f",
   "metadata": {},
   "source": [
    "### 7.\tThe World Health Organization (WHO) defined an obese person as someone who has a BMI ≥ 30. What is the effect of obesity on medical charges? "
   ]
  },
  {
   "cell_type": "markdown",
   "id": "c0e85d0b",
   "metadata": {},
   "source": [
    "#### Hint: Create a dummy variable."
   ]
  },
  {
   "cell_type": "code",
   "execution_count": 31,
   "id": "2cc233df",
   "metadata": {},
   "outputs": [],
   "source": [
    "#Create a deep copy of the dataset\n",
    "df2 = df.copy(deep = True)"
   ]
  },
  {
   "cell_type": "code",
   "execution_count": 32,
   "id": "91f8abb3",
   "metadata": {},
   "outputs": [
    {
     "data": {
      "text/html": [
       "<div>\n",
       "<style scoped>\n",
       "    .dataframe tbody tr th:only-of-type {\n",
       "        vertical-align: middle;\n",
       "    }\n",
       "\n",
       "    .dataframe tbody tr th {\n",
       "        vertical-align: top;\n",
       "    }\n",
       "\n",
       "    .dataframe thead th {\n",
       "        text-align: right;\n",
       "    }\n",
       "</style>\n",
       "<table border=\"1\" class=\"dataframe\">\n",
       "  <thead>\n",
       "    <tr style=\"text-align: right;\">\n",
       "      <th></th>\n",
       "      <th>age</th>\n",
       "      <th>sex</th>\n",
       "      <th>bmi</th>\n",
       "      <th>children</th>\n",
       "      <th>smoker</th>\n",
       "      <th>region</th>\n",
       "      <th>charges</th>\n",
       "      <th>bmi_gt_or_eq_30</th>\n",
       "      <th>bmi_gt_or_eq_30_0</th>\n",
       "      <th>bmi_gt_or_eq_30_1</th>\n",
       "    </tr>\n",
       "  </thead>\n",
       "  <tbody>\n",
       "    <tr>\n",
       "      <th>0</th>\n",
       "      <td>19.0</td>\n",
       "      <td>1</td>\n",
       "      <td>27.900</td>\n",
       "      <td>0</td>\n",
       "      <td>1</td>\n",
       "      <td>2</td>\n",
       "      <td>16884.92</td>\n",
       "      <td>0</td>\n",
       "      <td>1</td>\n",
       "      <td>0</td>\n",
       "    </tr>\n",
       "    <tr>\n",
       "      <th>1</th>\n",
       "      <td>18.0</td>\n",
       "      <td>0</td>\n",
       "      <td>33.770</td>\n",
       "      <td>1</td>\n",
       "      <td>0</td>\n",
       "      <td>3</td>\n",
       "      <td>9382.03</td>\n",
       "      <td>1</td>\n",
       "      <td>0</td>\n",
       "      <td>1</td>\n",
       "    </tr>\n",
       "    <tr>\n",
       "      <th>2</th>\n",
       "      <td>28.0</td>\n",
       "      <td>0</td>\n",
       "      <td>33.000</td>\n",
       "      <td>3</td>\n",
       "      <td>0</td>\n",
       "      <td>3</td>\n",
       "      <td>4449.46</td>\n",
       "      <td>1</td>\n",
       "      <td>0</td>\n",
       "      <td>1</td>\n",
       "    </tr>\n",
       "    <tr>\n",
       "      <th>3</th>\n",
       "      <td>33.0</td>\n",
       "      <td>0</td>\n",
       "      <td>22.705</td>\n",
       "      <td>0</td>\n",
       "      <td>0</td>\n",
       "      <td>1</td>\n",
       "      <td>21984.47</td>\n",
       "      <td>0</td>\n",
       "      <td>1</td>\n",
       "      <td>0</td>\n",
       "    </tr>\n",
       "    <tr>\n",
       "      <th>4</th>\n",
       "      <td>32.0</td>\n",
       "      <td>0</td>\n",
       "      <td>28.880</td>\n",
       "      <td>0</td>\n",
       "      <td>0</td>\n",
       "      <td>1</td>\n",
       "      <td>3866.86</td>\n",
       "      <td>0</td>\n",
       "      <td>1</td>\n",
       "      <td>0</td>\n",
       "    </tr>\n",
       "  </tbody>\n",
       "</table>\n",
       "</div>"
      ],
      "text/plain": [
       "    age  sex     bmi  children  smoker  region   charges  bmi_gt_or_eq_30  \\\n",
       "0  19.0    1  27.900         0       1       2  16884.92                0   \n",
       "1  18.0    0  33.770         1       0       3   9382.03                1   \n",
       "2  28.0    0  33.000         3       0       3   4449.46                1   \n",
       "3  33.0    0  22.705         0       0       1  21984.47                0   \n",
       "4  32.0    0  28.880         0       0       1   3866.86                0   \n",
       "\n",
       "   bmi_gt_or_eq_30_0  bmi_gt_or_eq_30_1  \n",
       "0                  1                  0  \n",
       "1                  0                  1  \n",
       "2                  0                  1  \n",
       "3                  1                  0  \n",
       "4                  1                  0  "
      ]
     },
     "execution_count": 32,
     "metadata": {},
     "output_type": "execute_result"
    }
   ],
   "source": [
    "# Create a new column with binary values\n",
    "df2['bmi_gt_or_eq_30'] = (df2['bmi'] >= 30).astype(int)\n",
    "\n",
    "# One-hot encode the binary column\n",
    "one_hot = pd.get_dummies(df2['bmi_gt_or_eq_30'], prefix='bmi_gt_or_eq_30')\n",
    "\n",
    "# Add the one-hot encoded columns to the original dataset\n",
    "df2 = pd.concat([df2, one_hot], axis=1)\n",
    "\n",
    "# Print the first 5 rows of the updated dataset\n",
    "df2.head()"
   ]
  },
  {
   "cell_type": "code",
   "execution_count": 33,
   "id": "13040c65",
   "metadata": {},
   "outputs": [
    {
     "data": {
      "text/html": [
       "<div>\n",
       "<style scoped>\n",
       "    .dataframe tbody tr th:only-of-type {\n",
       "        vertical-align: middle;\n",
       "    }\n",
       "\n",
       "    .dataframe tbody tr th {\n",
       "        vertical-align: top;\n",
       "    }\n",
       "\n",
       "    .dataframe thead th {\n",
       "        text-align: right;\n",
       "    }\n",
       "</style>\n",
       "<table border=\"1\" class=\"dataframe\">\n",
       "  <thead>\n",
       "    <tr style=\"text-align: right;\">\n",
       "      <th></th>\n",
       "      <th>bmi</th>\n",
       "      <th>bmi_gt_or_eq_30</th>\n",
       "      <th>bmi_gt_or_eq_30_0</th>\n",
       "      <th>bmi_gt_or_eq_30_1</th>\n",
       "    </tr>\n",
       "  </thead>\n",
       "  <tbody>\n",
       "    <tr>\n",
       "      <th>bmi</th>\n",
       "      <td>1.000000</td>\n",
       "      <td>0.799211</td>\n",
       "      <td>-0.799211</td>\n",
       "      <td>0.799211</td>\n",
       "    </tr>\n",
       "    <tr>\n",
       "      <th>bmi_gt_or_eq_30</th>\n",
       "      <td>0.799211</td>\n",
       "      <td>1.000000</td>\n",
       "      <td>-1.000000</td>\n",
       "      <td>1.000000</td>\n",
       "    </tr>\n",
       "    <tr>\n",
       "      <th>bmi_gt_or_eq_30_0</th>\n",
       "      <td>-0.799211</td>\n",
       "      <td>-1.000000</td>\n",
       "      <td>1.000000</td>\n",
       "      <td>-1.000000</td>\n",
       "    </tr>\n",
       "    <tr>\n",
       "      <th>bmi_gt_or_eq_30_1</th>\n",
       "      <td>0.799211</td>\n",
       "      <td>1.000000</td>\n",
       "      <td>-1.000000</td>\n",
       "      <td>1.000000</td>\n",
       "    </tr>\n",
       "  </tbody>\n",
       "</table>\n",
       "</div>"
      ],
      "text/plain": [
       "                        bmi  bmi_gt_or_eq_30  bmi_gt_or_eq_30_0  \\\n",
       "bmi                1.000000         0.799211          -0.799211   \n",
       "bmi_gt_or_eq_30    0.799211         1.000000          -1.000000   \n",
       "bmi_gt_or_eq_30_0 -0.799211        -1.000000           1.000000   \n",
       "bmi_gt_or_eq_30_1  0.799211         1.000000          -1.000000   \n",
       "\n",
       "                   bmi_gt_or_eq_30_1  \n",
       "bmi                         0.799211  \n",
       "bmi_gt_or_eq_30             1.000000  \n",
       "bmi_gt_or_eq_30_0          -1.000000  \n",
       "bmi_gt_or_eq_30_1           1.000000  "
      ]
     },
     "execution_count": 33,
     "metadata": {},
     "output_type": "execute_result"
    }
   ],
   "source": [
    "#Correlation of these dummy variables.\n",
    "df2[[\"bmi\", \"bmi_gt_or_eq_30\", \"bmi_gt_or_eq_30_0\", \"bmi_gt_or_eq_30_1\"]].corr()"
   ]
  },
  {
   "cell_type": "code",
   "execution_count": 34,
   "id": "6b0a9e2b",
   "metadata": {},
   "outputs": [],
   "source": [
    "# drop varaibles correlated with one another \n",
    "\n",
    "df2.drop('bmi_gt_or_eq_30', axis = 1 , inplace = True)\n",
    "df2.drop('bmi_gt_or_eq_30_0', axis = 1 , inplace = True)\n",
    "df2.drop('bmi', axis = 1 , inplace = True)"
   ]
  },
  {
   "cell_type": "code",
   "execution_count": 35,
   "id": "a893cf8e",
   "metadata": {},
   "outputs": [
    {
     "name": "stdout",
     "output_type": "stream",
     "text": [
      "(268, 6)\n",
      "(1070, 6)\n",
      "(268,)\n",
      "(1070,)\n"
     ]
    }
   ],
   "source": [
    "# split dataset into testing and training\n",
    "x2_train, x2_test, y2_train, y2_test = train_test_split(\n",
    "    df2.iloc[:,1:].values, df2.iloc[:,0].values, test_size=0.20, random_state=42)\n",
    "\n",
    "\n",
    "print(x2_test.shape)\n",
    "print(x2_train.shape)\n",
    "print(y2_test.shape)\n",
    "print(y2_train.shape)"
   ]
  },
  {
   "cell_type": "code",
   "execution_count": 36,
   "id": "6787bce7",
   "metadata": {},
   "outputs": [],
   "source": [
    "# CREATE -> FIT -> PREDICT\n",
    "#Create\n",
    "model2 = LinearRegression()\n",
    "\n",
    "#Fit\n",
    "model2.fit(x2_train, y2_train)\n",
    "\n",
    "#Predict\n",
    "y2_pred = model2.predict(x2_test)"
   ]
  },
  {
   "cell_type": "code",
   "execution_count": 37,
   "id": "19ceee6f",
   "metadata": {},
   "outputs": [
    {
     "name": "stdout",
     "output_type": "stream",
     "text": [
      "R-squared value: 0.27074793867081803\n"
     ]
    }
   ],
   "source": [
    "# Calculate the R-squared value\n",
    "r2_2 = r2_score(y2_test, y2_pred)\n",
    "print(\"R-squared value:\", r2_2)"
   ]
  },
  {
   "cell_type": "markdown",
   "id": "4a5a3496",
   "metadata": {},
   "source": [
    "####  An R-squared value of 0.27 indicates that 27% of the variance in the dependent variable is explained by the independent variable(s) in the regression model. In other words, the model does not explain a large proportion of the variance in the data and suggests that there may be other factors or variables that are influencing the amount charged."
   ]
  },
  {
   "cell_type": "code",
   "execution_count": 38,
   "id": "3e300c7a",
   "metadata": {
    "scrolled": true
   },
   "outputs": [
    {
     "name": "stdout",
     "output_type": "stream",
     "text": [
      "Mean Error: -0.37268199638317423\n",
      "Mean squared error: 141.66500050969393\n",
      "Root Mean squared error: 11.90231072143951\n",
      "Mean Absolute Error: 9.973711161887945\n",
      "Mean Percentage Error: -12.788104710290632\n",
      "Mean Absolute Percentage Error: 30.91051787114465\n"
     ]
    }
   ],
   "source": [
    "#Performance Metrics \n",
    "# Calculate the residuals by subtracting the predicted values from the actual values\n",
    "residuals2 = y2_test - y2_pred\n",
    "\n",
    "# Calculate the Mean Error (Average Error)\n",
    "# Using the residuals object from above\n",
    "me2 = sum(residuals2) / len(residuals2)\n",
    "print(\"Mean Error:\", me2)\n",
    "\n",
    "# Calculate the mean squared error\n",
    "mse2 = mean_squared_error(y2_test, y2_pred)\n",
    "print(\"Mean squared error:\", mse2)\n",
    "\n",
    "# Calculate the root mean squared error\n",
    "rmse2 = mean_squared_error(y2_test, y2_pred, squared=False)\n",
    "print(\"Root Mean squared error:\", rmse2)\n",
    "\n",
    "# Calculate the Mean Absolute Error\n",
    "mae2 = mean_absolute_error(y2_test, y2_pred)\n",
    "print(\"Mean Absolute Error:\", mae2)\n",
    "\n",
    "# Calculate the Mean Percentage Error\n",
    "mpe2 =  100 * sum(residuals2 / y2_test) / len(residuals2)\n",
    "print(\"Mean Percentage Error:\", mpe2)\n",
    "\n",
    "\n",
    "# Calculate the Mean Absolute Percentage Error\n",
    "mape2 = mean_absolute_percentage_error(y2_test, y2_pred)\n",
    "print(\"Mean Absolute Percentage Error:\", mape2*100)"
   ]
  },
  {
   "cell_type": "markdown",
   "id": "9cf5dfdd",
   "metadata": {},
   "source": [
    "#### Based on the information provided, it appears that BMI has a significant effect on medical charges, as indicated by the R-squared value of 0.27. This means that about 27% of the variation in medical charges can be explained by the BMI variable in the model.\n",
    "\n",
    "#### The RMSE of 11.90 and Mean Absolute Error of 9.97 indicate that the model has some level of error in predicting medical charges based on BMI, but it is not clear whether this level of error is acceptable for the particular use case.\n",
    "\n",
    "#### In general, a variable is considered relevant if it has a statistically significant effect on the outcome variable (in this case, medical charges). The R-squared value of 0.27 suggests that BMI is a relevant variable in predicting medical charges, but it is also important to consider other factors that may be affecting medical charges"
   ]
  },
  {
   "cell_type": "markdown",
   "id": "60c21ce4",
   "metadata": {},
   "source": [
    "### 8.Run one additional model to compare against the full ‘kitchen sink’ model. "
   ]
  },
  {
   "cell_type": "markdown",
   "id": "4ce71385",
   "metadata": {},
   "source": [
    "#### Only Using Highest 5 Correlated Variables"
   ]
  },
  {
   "cell_type": "code",
   "execution_count": 39,
   "id": "621dec91",
   "metadata": {},
   "outputs": [],
   "source": [
    "#Create a deep copy of the dataset\n",
    "df3 = df.copy(deep = True)"
   ]
  },
  {
   "cell_type": "code",
   "execution_count": 40,
   "id": "16c35e5f",
   "metadata": {},
   "outputs": [
    {
     "name": "stdout",
     "output_type": "stream",
     "text": [
      "Top 5 most highly correlated variables with charges:\n",
      " Index(['smoker', 'age', 'bmi', 'children', 'region'], dtype='object')\n"
     ]
    }
   ],
   "source": [
    "corr_matrix = df3[['age', 'sex', 'bmi', 'children', 'smoker', 'region', 'charges']].corr()\n",
    "# Select the 5 most highly correlated variables to the target variable (TOTAL.VALUE)\n",
    "top_corr_vars = corr_matrix.nlargest(6, 'charges')['charges'].index[1:]\n",
    "\n",
    "# Print the selected variables\n",
    "print(\"Top 5 most highly correlated variables with charges:\\n\", top_corr_vars)"
   ]
  },
  {
   "cell_type": "code",
   "execution_count": 41,
   "id": "081fb8ea",
   "metadata": {},
   "outputs": [
    {
     "name": "stdout",
     "output_type": "stream",
     "text": [
      "(268, 5)\n",
      "(1070, 5)\n",
      "(268,)\n",
      "(1070,)\n"
     ]
    }
   ],
   "source": [
    "# Select relevant features\n",
    "x = df3[['smoker', 'age', 'bmi', 'children', 'region']]\n",
    "\n",
    "# Select the target variable\n",
    "y = df3[\"charges\"]\n",
    "\n",
    "# Split the data into training and testing sets\n",
    "x5_train, x5_test, y5_train, y5_test = train_test_split(x, y, test_size=0.2, random_state=42)\n",
    "\n",
    "print(x5_test.shape)\n",
    "print(x5_train.shape)\n",
    "print(y5_test.shape)\n",
    "print(y5_train.shape)"
   ]
  },
  {
   "cell_type": "code",
   "execution_count": 42,
   "id": "51d404bb",
   "metadata": {},
   "outputs": [],
   "source": [
    "# CREATE the linear regression model\n",
    "model5 = LinearRegression()\n",
    "\n",
    "# FIT the model to the training data\n",
    "model5.fit(x5_train, y5_train)\n",
    "\n",
    "# PREDICT on the test data\n",
    "y5_pred = model5.predict(x5_test)"
   ]
  },
  {
   "cell_type": "code",
   "execution_count": 43,
   "id": "57b18563",
   "metadata": {},
   "outputs": [
    {
     "data": {
      "text/plain": [
       "0.7836034499217583"
      ]
     },
     "execution_count": 43,
     "metadata": {},
     "output_type": "execute_result"
    }
   ],
   "source": [
    "# Calculate the R-squared value\n",
    "r2_5 = r2_score(y5_test, y5_pred)\n",
    "r2_5"
   ]
  },
  {
   "cell_type": "code",
   "execution_count": 44,
   "id": "6eb39432",
   "metadata": {},
   "outputs": [
    {
     "name": "stdout",
     "output_type": "stream",
     "text": [
      "Mean Error: -217.52973849079586\n",
      "Mean squared error: 33595290.43998806\n",
      "Root Mean squared error: 5796.14444609415\n",
      "Mean Absolute Error: 4189.1516871196845\n",
      "Mean Percentage Error: -23.386354197861994\n",
      "Mean Absolute Percentage Error: 47.23240017971791\n"
     ]
    }
   ],
   "source": [
    "#Residuals calculation\n",
    "residuals5 = y5_test - y5_pred\n",
    "\n",
    "# Calculate the Mean Error (Average Error)\n",
    "# Using the residuals object from above\n",
    "me5 = sum(residuals5) / len(residuals5)\n",
    "print(\"Mean Error:\", me5)\n",
    "\n",
    "# Calculate the mean squared error\n",
    "mse5 = mean_squared_error(y5_test, y5_pred)\n",
    "print(\"Mean squared error:\", mse5)\n",
    "\n",
    "# Calculate the root mean squared error\n",
    "rmse5 = mean_squared_error(y5_test, y5_pred, squared=False)\n",
    "print(\"Root Mean squared error:\", rmse5)\n",
    "\n",
    "# Calculate the Mean Absolute Error\n",
    "mae5 = mean_absolute_error(y5_test, y5_pred)\n",
    "print(\"Mean Absolute Error:\", mae5)\n",
    "\n",
    "# Calculate the Mean Percentage Error\n",
    "mpe5 =  100 * sum(residuals5 / y5_test) / len(residuals5)\n",
    "print(\"Mean Percentage Error:\", mpe5)\n",
    "\n",
    "# Calculate the Mean Absolute Percentage Error\n",
    "mape5 = mean_absolute_percentage_error(y5_test, y5_pred)\n",
    "print(\"Mean Absolute Percentage Error:\", mape5*100)"
   ]
  },
  {
   "cell_type": "markdown",
   "id": "6f639374",
   "metadata": {},
   "source": [
    "#### The performace for the second model is similar to the full kitchen sink, where the RMSE is 5796.14 and in the first model the RMSE was 5795.16. \n",
    "#### In addition, MAPE of the second model is 47.23 and the first full kitchen sink is 47.16."
   ]
  },
  {
   "cell_type": "markdown",
   "id": "d13b7ed0",
   "metadata": {},
   "source": [
    "### 9.\tCompare the results of the model created in #5 and model created in #8 – which one would you recommend putting into production? "
   ]
  },
  {
   "cell_type": "code",
   "execution_count": 45,
   "id": "e54b9b7b",
   "metadata": {},
   "outputs": [
    {
     "name": "stdout",
     "output_type": "stream",
     "text": [
      "Model 1 R2  0.7836765301428436\n",
      "Model 1 RMSE:  5795.165642859977\n",
      "Model 1 size:  (1070, 6)\n",
      "   \n",
      "Model 2 R2:  0.7836034499217583\n",
      "Model 2 RMSE:  5796.14444609415\n",
      "Model 2 size:  (1070, 5)\n",
      "   \n"
     ]
    }
   ],
   "source": [
    "print(\"Model 1 R2 \", r2)\n",
    "print(\"Model 1 RMSE: \", rmse)\n",
    "print(\"Model 1 size: \", x_train.shape)\n",
    "print(\"   \")\n",
    "\n",
    "\n",
    "print(\"Model 2 R2: \", r2_5)\n",
    "print(\"Model 2 RMSE: \", rmse5)\n",
    "print(\"Model 2 size: \", x5_train.shape)\n",
    "print(\"   \")"
   ]
  },
  {
   "cell_type": "markdown",
   "id": "4426b2af",
   "metadata": {},
   "source": [
    "#### I would not choose either of these model because the RMSE of both is around 5.8K dollars of the predicted charges which is significant for this dataset. \n",
    "#### I would recommend adding more or creating more numeric variables that can be related to charges in the insurance health system. This can help the model capture more relevant information and improve its accuracy."
   ]
  },
  {
   "cell_type": "markdown",
   "id": "b4a1d206",
   "metadata": {},
   "source": [
    "### Extra Credit Attempt - Random Forest.\n",
    "#### Source: https://towardsdatascience.com/random-forest-in-python-24d0893d51c0"
   ]
  },
  {
   "cell_type": "code",
   "execution_count": 46,
   "id": "47fac8d5",
   "metadata": {},
   "outputs": [],
   "source": [
    "#Create a deep copy of the dataset\n",
    "df4 = df.copy(deep = True)"
   ]
  },
  {
   "cell_type": "code",
   "execution_count": 47,
   "id": "1a7d6765",
   "metadata": {},
   "outputs": [],
   "source": [
    "#Importing additional libraries\n",
    "import pandas as pd\n",
    "from sklearn.ensemble import RandomForestRegressor\n",
    "from sklearn.model_selection import train_test_split\n",
    "from sklearn.metrics import mean_squared_error, r2_score"
   ]
  },
  {
   "cell_type": "code",
   "execution_count": 48,
   "id": "d2a6a508",
   "metadata": {},
   "outputs": [],
   "source": [
    "x_4 = df4.drop('charges', axis=1)  # input features\n",
    "y_4 = df4['charges']  # target variable"
   ]
  },
  {
   "cell_type": "code",
   "execution_count": 49,
   "id": "fb8ada5b",
   "metadata": {},
   "outputs": [],
   "source": [
    "#Encoding categorical variables\n",
    "x = pd.get_dummies(x_4, drop_first=True)"
   ]
  },
  {
   "cell_type": "code",
   "execution_count": 50,
   "id": "75bc5f33",
   "metadata": {},
   "outputs": [],
   "source": [
    "# Separating the data into training and testing sets.\n",
    "# This time I used a 70-30 split\n",
    "x_train_4, x_test_4, y_train_4, y_test_4 = train_test_split(x_4, y_4, test_size=0.3, random_state=42)\n"
   ]
  },
  {
   "cell_type": "code",
   "execution_count": 51,
   "id": "06af84d4",
   "metadata": {},
   "outputs": [
    {
     "data": {
      "text/html": [
       "<style>#sk-container-id-2 {color: black;background-color: white;}#sk-container-id-2 pre{padding: 0;}#sk-container-id-2 div.sk-toggleable {background-color: white;}#sk-container-id-2 label.sk-toggleable__label {cursor: pointer;display: block;width: 100%;margin-bottom: 0;padding: 0.3em;box-sizing: border-box;text-align: center;}#sk-container-id-2 label.sk-toggleable__label-arrow:before {content: \"▸\";float: left;margin-right: 0.25em;color: #696969;}#sk-container-id-2 label.sk-toggleable__label-arrow:hover:before {color: black;}#sk-container-id-2 div.sk-estimator:hover label.sk-toggleable__label-arrow:before {color: black;}#sk-container-id-2 div.sk-toggleable__content {max-height: 0;max-width: 0;overflow: hidden;text-align: left;background-color: #f0f8ff;}#sk-container-id-2 div.sk-toggleable__content pre {margin: 0.2em;color: black;border-radius: 0.25em;background-color: #f0f8ff;}#sk-container-id-2 input.sk-toggleable__control:checked~div.sk-toggleable__content {max-height: 200px;max-width: 100%;overflow: auto;}#sk-container-id-2 input.sk-toggleable__control:checked~label.sk-toggleable__label-arrow:before {content: \"▾\";}#sk-container-id-2 div.sk-estimator input.sk-toggleable__control:checked~label.sk-toggleable__label {background-color: #d4ebff;}#sk-container-id-2 div.sk-label input.sk-toggleable__control:checked~label.sk-toggleable__label {background-color: #d4ebff;}#sk-container-id-2 input.sk-hidden--visually {border: 0;clip: rect(1px 1px 1px 1px);clip: rect(1px, 1px, 1px, 1px);height: 1px;margin: -1px;overflow: hidden;padding: 0;position: absolute;width: 1px;}#sk-container-id-2 div.sk-estimator {font-family: monospace;background-color: #f0f8ff;border: 1px dotted black;border-radius: 0.25em;box-sizing: border-box;margin-bottom: 0.5em;}#sk-container-id-2 div.sk-estimator:hover {background-color: #d4ebff;}#sk-container-id-2 div.sk-parallel-item::after {content: \"\";width: 100%;border-bottom: 1px solid gray;flex-grow: 1;}#sk-container-id-2 div.sk-label:hover label.sk-toggleable__label {background-color: #d4ebff;}#sk-container-id-2 div.sk-serial::before {content: \"\";position: absolute;border-left: 1px solid gray;box-sizing: border-box;top: 0;bottom: 0;left: 50%;z-index: 0;}#sk-container-id-2 div.sk-serial {display: flex;flex-direction: column;align-items: center;background-color: white;padding-right: 0.2em;padding-left: 0.2em;position: relative;}#sk-container-id-2 div.sk-item {position: relative;z-index: 1;}#sk-container-id-2 div.sk-parallel {display: flex;align-items: stretch;justify-content: center;background-color: white;position: relative;}#sk-container-id-2 div.sk-item::before, #sk-container-id-2 div.sk-parallel-item::before {content: \"\";position: absolute;border-left: 1px solid gray;box-sizing: border-box;top: 0;bottom: 0;left: 50%;z-index: -1;}#sk-container-id-2 div.sk-parallel-item {display: flex;flex-direction: column;z-index: 1;position: relative;background-color: white;}#sk-container-id-2 div.sk-parallel-item:first-child::after {align-self: flex-end;width: 50%;}#sk-container-id-2 div.sk-parallel-item:last-child::after {align-self: flex-start;width: 50%;}#sk-container-id-2 div.sk-parallel-item:only-child::after {width: 0;}#sk-container-id-2 div.sk-dashed-wrapped {border: 1px dashed gray;margin: 0 0.4em 0.5em 0.4em;box-sizing: border-box;padding-bottom: 0.4em;background-color: white;}#sk-container-id-2 div.sk-label label {font-family: monospace;font-weight: bold;display: inline-block;line-height: 1.2em;}#sk-container-id-2 div.sk-label-container {text-align: center;}#sk-container-id-2 div.sk-container {/* jupyter's `normalize.less` sets `[hidden] { display: none; }` but bootstrap.min.css set `[hidden] { display: none !important; }` so we also need the `!important` here to be able to override the default hidden behavior on the sphinx rendered scikit-learn.org. See: https://github.com/scikit-learn/scikit-learn/issues/21755 */display: inline-block !important;position: relative;}#sk-container-id-2 div.sk-text-repr-fallback {display: none;}</style><div id=\"sk-container-id-2\" class=\"sk-top-container\"><div class=\"sk-text-repr-fallback\"><pre>RandomForestRegressor(random_state=42)</pre><b>In a Jupyter environment, please rerun this cell to show the HTML representation or trust the notebook. <br />On GitHub, the HTML representation is unable to render, please try loading this page with nbviewer.org.</b></div><div class=\"sk-container\" hidden><div class=\"sk-item\"><div class=\"sk-estimator sk-toggleable\"><input class=\"sk-toggleable__control sk-hidden--visually\" id=\"sk-estimator-id-2\" type=\"checkbox\" checked><label for=\"sk-estimator-id-2\" class=\"sk-toggleable__label sk-toggleable__label-arrow\">RandomForestRegressor</label><div class=\"sk-toggleable__content\"><pre>RandomForestRegressor(random_state=42)</pre></div></div></div></div></div>"
      ],
      "text/plain": [
       "RandomForestRegressor(random_state=42)"
      ]
     },
     "execution_count": 51,
     "metadata": {},
     "output_type": "execute_result"
    }
   ],
   "source": [
    "# Create a random forest model\n",
    "rf = RandomForestRegressor(n_estimators=100, random_state=42)\n",
    "rf.fit(x_train_4, y_train_4)"
   ]
  },
  {
   "cell_type": "code",
   "execution_count": 52,
   "id": "c5f05150",
   "metadata": {},
   "outputs": [],
   "source": [
    "y_pred_4 = rf.predict(x_test_4)"
   ]
  },
  {
   "cell_type": "code",
   "execution_count": 53,
   "id": "d3026022",
   "metadata": {},
   "outputs": [
    {
     "data": {
      "text/html": [
       "<div>\n",
       "<style scoped>\n",
       "    .dataframe tbody tr th:only-of-type {\n",
       "        vertical-align: middle;\n",
       "    }\n",
       "\n",
       "    .dataframe tbody tr th {\n",
       "        vertical-align: top;\n",
       "    }\n",
       "\n",
       "    .dataframe thead th {\n",
       "        text-align: right;\n",
       "    }\n",
       "</style>\n",
       "<table border=\"1\" class=\"dataframe\">\n",
       "  <thead>\n",
       "    <tr style=\"text-align: right;\">\n",
       "      <th></th>\n",
       "      <th>Actual</th>\n",
       "      <th>Predicted</th>\n",
       "      <th>Diff</th>\n",
       "    </tr>\n",
       "  </thead>\n",
       "  <tbody>\n",
       "    <tr>\n",
       "      <th>764</th>\n",
       "      <td>9095.07</td>\n",
       "      <td>10468.8853</td>\n",
       "      <td>1373.8153</td>\n",
       "    </tr>\n",
       "    <tr>\n",
       "      <th>887</th>\n",
       "      <td>5272.18</td>\n",
       "      <td>5891.0378</td>\n",
       "      <td>618.8578</td>\n",
       "    </tr>\n",
       "    <tr>\n",
       "      <th>890</th>\n",
       "      <td>29330.98</td>\n",
       "      <td>28269.1778</td>\n",
       "      <td>-1061.8022</td>\n",
       "    </tr>\n",
       "    <tr>\n",
       "      <th>1293</th>\n",
       "      <td>9301.89</td>\n",
       "      <td>11690.8097</td>\n",
       "      <td>2388.9197</td>\n",
       "    </tr>\n",
       "    <tr>\n",
       "      <th>259</th>\n",
       "      <td>33750.29</td>\n",
       "      <td>34411.6054</td>\n",
       "      <td>661.3154</td>\n",
       "    </tr>\n",
       "    <tr>\n",
       "      <th>1312</th>\n",
       "      <td>4536.26</td>\n",
       "      <td>8247.4149</td>\n",
       "      <td>3711.1549</td>\n",
       "    </tr>\n",
       "    <tr>\n",
       "      <th>899</th>\n",
       "      <td>2117.34</td>\n",
       "      <td>2190.0266</td>\n",
       "      <td>72.6866</td>\n",
       "    </tr>\n",
       "    <tr>\n",
       "      <th>752</th>\n",
       "      <td>14210.54</td>\n",
       "      <td>14563.7882</td>\n",
       "      <td>353.2482</td>\n",
       "    </tr>\n",
       "    <tr>\n",
       "      <th>1286</th>\n",
       "      <td>3732.63</td>\n",
       "      <td>5870.1495</td>\n",
       "      <td>2137.5195</td>\n",
       "    </tr>\n",
       "    <tr>\n",
       "      <th>707</th>\n",
       "      <td>10264.44</td>\n",
       "      <td>10440.2012</td>\n",
       "      <td>175.7612</td>\n",
       "    </tr>\n",
       "  </tbody>\n",
       "</table>\n",
       "</div>"
      ],
      "text/plain": [
       "        Actual   Predicted       Diff\n",
       "764    9095.07  10468.8853  1373.8153\n",
       "887    5272.18   5891.0378   618.8578\n",
       "890   29330.98  28269.1778 -1061.8022\n",
       "1293   9301.89  11690.8097  2388.9197\n",
       "259   33750.29  34411.6054   661.3154\n",
       "1312   4536.26   8247.4149  3711.1549\n",
       "899    2117.34   2190.0266    72.6866\n",
       "752   14210.54  14563.7882   353.2482\n",
       "1286   3732.63   5870.1495  2137.5195\n",
       "707   10264.44  10440.2012   175.7612"
      ]
     },
     "execution_count": 53,
     "metadata": {},
     "output_type": "execute_result"
    }
   ],
   "source": [
    "# Actual vs Predicted Values\n",
    "\n",
    "diff4 = pd.DataFrame({'Actual': y_test_4, 'Predicted': y_pred_4, 'Diff': y_pred_4-y_test_4})\n",
    "diff4.head(10)"
   ]
  },
  {
   "cell_type": "code",
   "execution_count": 54,
   "id": "d66831c0",
   "metadata": {},
   "outputs": [
    {
     "name": "stdout",
     "output_type": "stream",
     "text": [
      "R-squared: 0.852472759353217\n",
      "Mean squared error: 21631079.82059097\n",
      "Root Mean squared error: 4650.9224698538\n",
      "Mean Absolute Percentage Error: 32.260962704082935\n"
     ]
    }
   ],
   "source": [
    "#Performance Metrics\n",
    "#Calculate R-squared\n",
    "r2_rand_4 = r2_score(y_test_4, y_pred_4)\n",
    "print('R-squared:', r2_rand_4)\n",
    "\n",
    "#Calculate Mean Squared Error\n",
    "mse_4 = mean_squared_error(y_test_4, y_pred_4)\n",
    "print('Mean squared error:', mse_4)\n",
    "\n",
    "# Calculate the root mean squared error\n",
    "rmse_4 = mean_squared_error(y_test_4, y_pred_4, squared=False)\n",
    "print(\"Root Mean squared error:\", rmse_4)\n",
    "\n",
    "# Calculate the Mean Absolute Percentage Error\n",
    "mape_4 = mean_absolute_percentage_error(y_test_4, y_pred_4)\n",
    "print(\"Mean Absolute Percentage Error:\", mape_4*100)"
   ]
  },
  {
   "cell_type": "markdown",
   "id": "39d852d3",
   "metadata": {},
   "source": [
    "#### Comparison to the previous models."
   ]
  },
  {
   "cell_type": "code",
   "execution_count": 55,
   "id": "2f187268",
   "metadata": {},
   "outputs": [
    {
     "name": "stdout",
     "output_type": "stream",
     "text": [
      "Model 1 R2  0.7836765301428436\n",
      "Model 1 RMSE:  5795.165642859977\n",
      "Model 1 size:  (1070, 6)\n",
      "   \n",
      "Model 2 R2:  0.7836034499217583\n",
      "Model 2 RMSE:  5796.14444609415\n",
      "Model 2 size:  (1070, 5)\n",
      "   \n",
      "Random Forest R2:  0.852472759353217\n",
      "Random Forest RMSE:  4650.9224698538\n",
      "Random Forest size:  (936, 6)\n",
      "   \n"
     ]
    }
   ],
   "source": [
    "print(\"Model 1 R2 \", r2)\n",
    "print(\"Model 1 RMSE: \", rmse)\n",
    "print(\"Model 1 size: \", x_train.shape)\n",
    "print(\"   \")\n",
    "\n",
    "\n",
    "print(\"Model 2 R2: \", r2_5)\n",
    "print(\"Model 2 RMSE: \", rmse5)\n",
    "print(\"Model 2 size: \", x5_train.shape)\n",
    "print(\"   \")\n",
    "\n",
    "print(\"Random Forest R2: \", r2_rand_4)\n",
    "print(\"Random Forest RMSE: \", rmse_4)\n",
    "print(\"Random Forest size: \", x_train_4.shape)\n",
    "print(\"   \")"
   ]
  },
  {
   "cell_type": "markdown",
   "id": "888a1b5a",
   "metadata": {},
   "source": [
    "#### The random forest model is far better to the other two models I did previously. The loss through the RMSE decreased from 5.8K to 4.6K which is better for the company.\n",
    "#### In addition the goodness of fit the R2 is 85% which is better than 78%.\n",
    "#### I think this model worked better because the data is not fully linear and the random forest model can handle more categorical data for complex relationships with data."
   ]
  }
 ],
 "metadata": {
  "kernelspec": {
   "display_name": "Python 3 (ipykernel)",
   "language": "python",
   "name": "python3"
  },
  "language_info": {
   "codemirror_mode": {
    "name": "ipython",
    "version": 3
   },
   "file_extension": ".py",
   "mimetype": "text/x-python",
   "name": "python",
   "nbconvert_exporter": "python",
   "pygments_lexer": "ipython3",
   "version": "3.9.7"
  }
 },
 "nbformat": 4,
 "nbformat_minor": 5
}
